{
  "cells": [
    {
      "cell_type": "code",
      "execution_count": 1,
      "metadata": {
        "colab": {
          "base_uri": "https://localhost:8080/"
        },
        "id": "gIc0x7KJLGhY",
        "outputId": "f3dce93b-37eb-4a3d-e5a4-a93fe4ef3d26"
      },
      "outputs": [
        {
          "output_type": "stream",
          "name": "stdout",
          "text": [
            "Mounted at /content/drive\n"
          ]
        }
      ],
      "source": [
        "# Connect to Drive\n",
        "from google.colab import drive\n",
        "drive.mount('/content/drive')"
      ]
    },
    {
      "cell_type": "code",
      "execution_count": 2,
      "metadata": {
        "id": "A9kMuVVsbiCd",
        "colab": {
          "base_uri": "https://localhost:8080/"
        },
        "outputId": "68a6daef-2249-45a2-c711-6b3ad459461b"
      },
      "outputs": [
        {
          "output_type": "stream",
          "name": "stderr",
          "text": [
            "DEBUG:tensorflow:Falling back to TensorFlow client; we recommended you install the Cloud TPU client directly with pip install cloud-tpu-client.\n"
          ]
        },
        {
          "output_type": "stream",
          "name": "stdout",
          "text": [
            "TensorFlow version: 2.15.0\n"
          ]
        }
      ],
      "source": [
        "# Imports, setup and parameters\n",
        "import numpy as np\n",
        "import math\n",
        "import zipfile\n",
        "import pandas as pd\n",
        "from sklearn.metrics import classification_report\n",
        "from sklearn.preprocessing import normalize\n",
        "import matplotlib.pyplot as plt\n",
        "import logging\n",
        "logging.getLogger(\"tensorflow\").setLevel(logging.DEBUG)\n",
        "import tensorflow as tf\n",
        "from tensorflow.keras import layers\n",
        "\n",
        "\n",
        "print(\"TensorFlow version:\", tf.__version__)\n",
        "\n",
        "tf.keras.backend.clear_session()\n",
        "tf.get_logger().setLevel('DEBUG')\n",
        "\n",
        "file_path = \"/content/drive/MyDrive/University/L3_Project/HAR/data_processing/uci_data\"\n",
        "\n",
        "## CNN parameters\n",
        "\n",
        "segment_size = 128\n",
        "num_input_channels = 6\n",
        "\n",
        "num_training_iterations = 200\n",
        "batch_size = 200\n",
        "\n",
        "l2_reg = 5e-4\n",
        "learning_rate = 5e-4\n",
        "dropout_rate = 0.05\n",
        "\n",
        "n_hidden = 1024\n",
        "n_classes = 6\n",
        "id = 8; # Used to uniquely identify model\n",
        "\n",
        "# Name of ZIP file\n",
        "name_fzip = \"f\"+str(id)+\"_\"+str(n_hidden)+\".zip\""
      ]
    },
    {
      "cell_type": "code",
      "execution_count": 3,
      "metadata": {
        "colab": {
          "base_uri": "https://localhost:8080/"
        },
        "id": "eOGRQqsgBatZ",
        "outputId": "5f8b9903-76a5-47b9-a50f-c34b977f92d7"
      },
      "outputs": [
        {
          "output_type": "stream",
          "name": "stdout",
          "text": [
            "Loading UCI dataset...\n",
            "Dataset was uploaded\n",
            "\n"
          ]
        }
      ],
      "source": [
        "## Loading the dataset\n",
        "\n",
        "print('Loading UCI dataset...')\n",
        "\n",
        "# Reading training data\n",
        "\n",
        "# Modified paths for Drive\n",
        "ff = open(f\"{file_path}/features.csv\")\n",
        "features = np.loadtxt(fname = ff, delimiter = ',')\n",
        "ff.close()\n",
        "\n",
        "# Reading validation data\n",
        "\n",
        "ff = open(f\"{file_path}/val_features.csv\")\n",
        "features_val = np.loadtxt(fname = ff, delimiter = ',')\n",
        "ff.close()\n",
        "\n",
        "# Reading test data\n",
        "\n",
        "ff = open(f\"{file_path}/test_features.csv\")\n",
        "features_test = np.loadtxt(fname = ff, delimiter = ',')\n",
        "ff.close()\n",
        "\n",
        "# Reading labels\n",
        "#   Training labels\n",
        "fa = open(f\"{file_path}/answers.csv\")\n",
        "labels_train = np.loadtxt(fname = fa, delimiter = ',')\n",
        "fa.close()\n",
        "\n",
        "#   Validation labels\n",
        "fa = open(f\"{file_path}/answers_val.csv\")\n",
        "labels_val = np.loadtxt(fname = fa, delimiter = ',')\n",
        "fa.close()\n",
        "\n",
        "#   Test labels\n",
        "fa = open(f\"{file_path}/answers_test.csv\")\n",
        "labels_test = np.loadtxt(fname = fa, delimiter = ',')\n",
        "fa.close()\n",
        "\n",
        "num_features = features.shape[1]\n",
        "\n",
        "labels_val = np.reshape(labels_val, [labels_val.shape[0], n_classes])\n",
        "features_val = np.reshape(features_val, [features_val.shape[0], num_features])\n",
        "labels_val_max = np.expand_dims(np.argmax(labels_val,axis=1),axis=1)\n",
        "\n",
        "labels_test = np.reshape(labels_test, [labels_test.shape[0], n_classes])\n",
        "features_test = np.reshape(features_test, [features_test.shape[0], num_features])\n",
        "labels_test_max = np.expand_dims(np.argmax(labels_test,axis=1),axis=1)\n",
        "\n",
        "print(\"Dataset was uploaded\\n\")"
      ]
    },
    {
      "cell_type": "code",
      "execution_count": 4,
      "metadata": {
        "id": "b9dam1hv12Oh",
        "colab": {
          "base_uri": "https://localhost:8080/"
        },
        "outputId": "2d286a00-7d41-4541-e210-d229980854c4"
      },
      "outputs": [
        {
          "output_type": "stream",
          "name": "stdout",
          "text": [
            "Nano transmission file generated\n"
          ]
        }
      ],
      "source": [
        "# Create file with data segments and corresponding features for transmission to Nano\n",
        "data_combined = np.concatenate((features_test,labels_test_max),axis=1)\n",
        "\n",
        "# Specifying the file path\n",
        "file_path = 'data_combined.csv'\n",
        "\n",
        "# Writing the array to the CSV file\n",
        "np.savetxt(file_path, data_combined, delimiter=',', fmt='%3.4g')\n",
        "\n",
        "with zipfile.ZipFile(name_fzip,'a') as myzip:\n",
        "  myzip.write(file_path)\n",
        "\n",
        "print(\"Nano transmission file generated\")"
      ]
    },
    {
      "cell_type": "code",
      "execution_count": 5,
      "metadata": {
        "colab": {
          "base_uri": "https://localhost:8080/",
          "height": 1000
        },
        "id": "6Oucfbh5KpgW",
        "outputId": "547715bb-bde7-420e-eccd-2671bea21a1d"
      },
      "outputs": [
        {
          "output_type": "stream",
          "name": "stdout",
          "text": [
            "Creating MLP architecture\n",
            "\n",
            "Model: \"model\"\n",
            "_________________________________________________________________\n",
            " Layer (type)                Output Shape              Param #   \n",
            "=================================================================\n",
            " input_1 (InputLayer)        [(None, 40)]              0         \n",
            "                                                                 \n",
            " dropout (Dropout)           (None, 40)                0         \n",
            "                                                                 \n",
            " dense (Dense)               (None, 1024)              41984     \n",
            "                                                                 \n",
            " dense_1 (Dense)             (None, 6)                 6150      \n",
            "                                                                 \n",
            "=================================================================\n",
            "Total params: 48134 (188.02 KB)\n",
            "Trainable params: 48134 (188.02 KB)\n",
            "Non-trainable params: 0 (0.00 Byte)\n",
            "_________________________________________________________________\n",
            "Epoch 1/200\n",
            "38/38 [==============================] - 1s 13ms/step - loss: 2.1374 - accuracy: 0.3856 - sparse_categorical_crossentropy: 2.0993 - val_loss: 1.3716 - val_accuracy: 0.4584 - val_sparse_categorical_crossentropy: 1.3334 - lr: 0.0010\n",
            "Epoch 2/200\n",
            "38/38 [==============================] - 0s 6ms/step - loss: 1.0881 - accuracy: 0.5559 - sparse_categorical_crossentropy: 1.0493 - val_loss: 1.4851 - val_accuracy: 0.4199 - val_sparse_categorical_crossentropy: 1.4454 - lr: 0.0010\n",
            "Epoch 3/200\n",
            "38/38 [==============================] - 0s 7ms/step - loss: 0.9854 - accuracy: 0.6171 - sparse_categorical_crossentropy: 0.9445 - val_loss: 1.1736 - val_accuracy: 0.5378 - val_sparse_categorical_crossentropy: 1.1313 - lr: 0.0010\n",
            "Epoch 4/200\n",
            "38/38 [==============================] - 0s 6ms/step - loss: 0.8133 - accuracy: 0.6901 - sparse_categorical_crossentropy: 0.7696 - val_loss: 1.1909 - val_accuracy: 0.5524 - val_sparse_categorical_crossentropy: 1.1456 - lr: 0.0010\n",
            "Epoch 5/200\n",
            "38/38 [==============================] - 0s 6ms/step - loss: 0.8318 - accuracy: 0.6858 - sparse_categorical_crossentropy: 0.7846 - val_loss: 1.5832 - val_accuracy: 0.4946 - val_sparse_categorical_crossentropy: 1.5340 - lr: 0.0010\n",
            "Epoch 6/200\n",
            "38/38 [==============================] - 0s 6ms/step - loss: 0.8327 - accuracy: 0.6778 - sparse_categorical_crossentropy: 0.7819 - val_loss: 1.0541 - val_accuracy: 0.6179 - val_sparse_categorical_crossentropy: 1.0015 - lr: 0.0010\n",
            "Epoch 7/200\n",
            "38/38 [==============================] - 0s 6ms/step - loss: 0.7776 - accuracy: 0.6981 - sparse_categorical_crossentropy: 0.7233 - val_loss: 1.0895 - val_accuracy: 0.5948 - val_sparse_categorical_crossentropy: 1.0333 - lr: 0.0010\n",
            "Epoch 8/200\n",
            "38/38 [==============================] - 0s 6ms/step - loss: 0.6559 - accuracy: 0.7559 - sparse_categorical_crossentropy: 0.5984 - val_loss: 0.9892 - val_accuracy: 0.6418 - val_sparse_categorical_crossentropy: 0.9304 - lr: 0.0010\n",
            "Epoch 9/200\n",
            "38/38 [==============================] - 0s 6ms/step - loss: 0.7071 - accuracy: 0.7318 - sparse_categorical_crossentropy: 0.6472 - val_loss: 1.0391 - val_accuracy: 0.6225 - val_sparse_categorical_crossentropy: 0.9779 - lr: 0.0010\n",
            "Epoch 10/200\n",
            "38/38 [==============================] - 0s 6ms/step - loss: 0.7194 - accuracy: 0.7383 - sparse_categorical_crossentropy: 0.6568 - val_loss: 0.9859 - val_accuracy: 0.6479 - val_sparse_categorical_crossentropy: 0.9219 - lr: 0.0010\n",
            "Epoch 11/200\n",
            "38/38 [==============================] - 0s 5ms/step - loss: 0.6056 - accuracy: 0.7880 - sparse_categorical_crossentropy: 0.5408 - val_loss: 1.0242 - val_accuracy: 0.6448 - val_sparse_categorical_crossentropy: 0.9584 - lr: 0.0010\n",
            "Epoch 12/200\n",
            "38/38 [==============================] - 0s 7ms/step - loss: 0.6421 - accuracy: 0.7644 - sparse_categorical_crossentropy: 0.5754 - val_loss: 0.9598 - val_accuracy: 0.6341 - val_sparse_categorical_crossentropy: 0.8920 - lr: 0.0010\n",
            "Epoch 13/200\n",
            "38/38 [==============================] - 0s 5ms/step - loss: 0.6037 - accuracy: 0.7923 - sparse_categorical_crossentropy: 0.5345 - val_loss: 1.1707 - val_accuracy: 0.6017 - val_sparse_categorical_crossentropy: 1.1005 - lr: 0.0010\n",
            "Epoch 14/200\n",
            "38/38 [==============================] - 0s 5ms/step - loss: 0.6072 - accuracy: 0.7844 - sparse_categorical_crossentropy: 0.5361 - val_loss: 1.0019 - val_accuracy: 0.6518 - val_sparse_categorical_crossentropy: 0.9299 - lr: 0.0010\n",
            "Epoch 15/200\n",
            "38/38 [==============================] - 0s 6ms/step - loss: 0.6037 - accuracy: 0.7875 - sparse_categorical_crossentropy: 0.5310 - val_loss: 0.9609 - val_accuracy: 0.6541 - val_sparse_categorical_crossentropy: 0.8874 - lr: 0.0010\n",
            "Epoch 16/200\n",
            "38/38 [==============================] - 0s 7ms/step - loss: 0.5654 - accuracy: 0.8037 - sparse_categorical_crossentropy: 0.4912 - val_loss: 0.9265 - val_accuracy: 0.6556 - val_sparse_categorical_crossentropy: 0.8515 - lr: 0.0010\n",
            "Epoch 17/200\n",
            "38/38 [==============================] - 0s 9ms/step - loss: 0.5316 - accuracy: 0.8278 - sparse_categorical_crossentropy: 0.4563 - val_loss: 0.9643 - val_accuracy: 0.6780 - val_sparse_categorical_crossentropy: 0.8885 - lr: 0.0010\n",
            "Epoch 18/200\n",
            "38/38 [==============================] - 0s 10ms/step - loss: 0.5371 - accuracy: 0.8216 - sparse_categorical_crossentropy: 0.4607 - val_loss: 1.4500 - val_accuracy: 0.5701 - val_sparse_categorical_crossentropy: 1.3730 - lr: 0.0010\n",
            "Epoch 19/200\n",
            "38/38 [==============================] - 0s 10ms/step - loss: 0.5585 - accuracy: 0.8138 - sparse_categorical_crossentropy: 0.4809 - val_loss: 1.2929 - val_accuracy: 0.5709 - val_sparse_categorical_crossentropy: 1.2145 - lr: 0.0010\n",
            "Epoch 20/200\n",
            "38/38 [==============================] - 0s 9ms/step - loss: 0.6202 - accuracy: 0.7902 - sparse_categorical_crossentropy: 0.5408 - val_loss: 1.0340 - val_accuracy: 0.6533 - val_sparse_categorical_crossentropy: 0.9535 - lr: 0.0010\n",
            "Epoch 21/200\n",
            "38/38 [==============================] - 0s 10ms/step - loss: 0.5344 - accuracy: 0.8193 - sparse_categorical_crossentropy: 0.4536 - val_loss: 0.9972 - val_accuracy: 0.6448 - val_sparse_categorical_crossentropy: 0.9160 - lr: 0.0010\n",
            "Epoch 22/200\n",
            "38/38 [==============================] - 0s 10ms/step - loss: 0.5316 - accuracy: 0.8234 - sparse_categorical_crossentropy: 0.4499 - val_loss: 0.8969 - val_accuracy: 0.7026 - val_sparse_categorical_crossentropy: 0.8148 - lr: 0.0010\n",
            "Epoch 23/200\n",
            "38/38 [==============================] - 0s 9ms/step - loss: 0.5263 - accuracy: 0.8223 - sparse_categorical_crossentropy: 0.4439 - val_loss: 0.9408 - val_accuracy: 0.6703 - val_sparse_categorical_crossentropy: 0.8580 - lr: 0.0010\n",
            "Epoch 24/200\n",
            "38/38 [==============================] - 0s 11ms/step - loss: 0.5416 - accuracy: 0.8139 - sparse_categorical_crossentropy: 0.4582 - val_loss: 1.0059 - val_accuracy: 0.6733 - val_sparse_categorical_crossentropy: 0.9220 - lr: 0.0010\n",
            "Epoch 25/200\n",
            "38/38 [==============================] - 0s 11ms/step - loss: 0.5414 - accuracy: 0.8233 - sparse_categorical_crossentropy: 0.4564 - val_loss: 1.0073 - val_accuracy: 0.6641 - val_sparse_categorical_crossentropy: 0.9216 - lr: 0.0010\n",
            "Epoch 26/200\n",
            "38/38 [==============================] - 0s 8ms/step - loss: 0.5122 - accuracy: 0.8289 - sparse_categorical_crossentropy: 0.4262 - val_loss: 1.0613 - val_accuracy: 0.6633 - val_sparse_categorical_crossentropy: 0.9751 - lr: 0.0010\n",
            "Epoch 27/200\n",
            "38/38 [==============================] - 0s 7ms/step - loss: 0.5821 - accuracy: 0.7971 - sparse_categorical_crossentropy: 0.4955 - val_loss: 1.0330 - val_accuracy: 0.6256 - val_sparse_categorical_crossentropy: 0.9460 - lr: 0.0010\n",
            "Epoch 28/200\n",
            "38/38 [==============================] - 0s 6ms/step - loss: 0.5293 - accuracy: 0.8239 - sparse_categorical_crossentropy: 0.4417 - val_loss: 1.0635 - val_accuracy: 0.6587 - val_sparse_categorical_crossentropy: 0.9754 - lr: 0.0010\n",
            "Epoch 29/200\n",
            "35/38 [==========================>...] - ETA: 0s - loss: 0.5420 - accuracy: 0.8203 - sparse_categorical_crossentropy: 0.4534\n",
            "Epoch 29: ReduceLROnPlateau reducing learning rate to 0.00010000000474974513.\n",
            "38/38 [==============================] - 0s 6ms/step - loss: 0.5373 - accuracy: 0.8227 - sparse_categorical_crossentropy: 0.4487 - val_loss: 1.2306 - val_accuracy: 0.6348 - val_sparse_categorical_crossentropy: 1.1413 - lr: 0.0010\n",
            "Epoch 30/200\n",
            "38/38 [==============================] - 0s 6ms/step - loss: 0.4744 - accuracy: 0.8553 - sparse_categorical_crossentropy: 0.3851 - val_loss: 0.9116 - val_accuracy: 0.7096 - val_sparse_categorical_crossentropy: 0.8224 - lr: 1.0000e-04\n",
            "Epoch 31/200\n",
            "38/38 [==============================] - 0s 6ms/step - loss: 0.4414 - accuracy: 0.8755 - sparse_categorical_crossentropy: 0.3522 - val_loss: 0.9106 - val_accuracy: 0.7072 - val_sparse_categorical_crossentropy: 0.8215 - lr: 1.0000e-04\n",
            "Epoch 32/200\n",
            "38/38 [==============================] - 0s 6ms/step - loss: 0.4285 - accuracy: 0.8800 - sparse_categorical_crossentropy: 0.3395 - val_loss: 0.9041 - val_accuracy: 0.7157 - val_sparse_categorical_crossentropy: 0.8151 - lr: 1.0000e-04\n",
            "Epoch 33/200\n",
            "38/38 [==============================] - 0s 6ms/step - loss: 0.4279 - accuracy: 0.8840 - sparse_categorical_crossentropy: 0.3390 - val_loss: 0.9156 - val_accuracy: 0.7134 - val_sparse_categorical_crossentropy: 0.8268 - lr: 1.0000e-04\n",
            "Epoch 34/200\n",
            "38/38 [==============================] - 0s 6ms/step - loss: 0.4225 - accuracy: 0.8858 - sparse_categorical_crossentropy: 0.3338 - val_loss: 0.9196 - val_accuracy: 0.7119 - val_sparse_categorical_crossentropy: 0.8309 - lr: 1.0000e-04\n",
            "Epoch 35/200\n",
            "38/38 [==============================] - 0s 6ms/step - loss: 0.4182 - accuracy: 0.8863 - sparse_categorical_crossentropy: 0.3296 - val_loss: 0.9206 - val_accuracy: 0.7111 - val_sparse_categorical_crossentropy: 0.8321 - lr: 1.0000e-04\n",
            "Epoch 36/200\n",
            "34/38 [=========================>....] - ETA: 0s - loss: 0.4219 - accuracy: 0.8832 - sparse_categorical_crossentropy: 0.3334\n",
            "Epoch 36: ReduceLROnPlateau reducing learning rate to 1.0000000474974514e-05.\n",
            "38/38 [==============================] - 0s 6ms/step - loss: 0.4218 - accuracy: 0.8839 - sparse_categorical_crossentropy: 0.3334 - val_loss: 0.9243 - val_accuracy: 0.7157 - val_sparse_categorical_crossentropy: 0.8359 - lr: 1.0000e-04\n",
            "Epoch 37/200\n",
            "38/38 [==============================] - 0s 6ms/step - loss: 0.4123 - accuracy: 0.8891 - sparse_categorical_crossentropy: 0.3239 - val_loss: 0.9143 - val_accuracy: 0.7126 - val_sparse_categorical_crossentropy: 0.8259 - lr: 1.0000e-05\n"
          ]
        },
        {
          "output_type": "display_data",
          "data": {
            "text/plain": [
              "<Figure size 640x480 with 1 Axes>"
            ],
            "image/png": "[encoded data removed]"
          },
          "metadata": {}
        },
        {
          "output_type": "stream",
          "name": "stdout",
          "text": [
            "53/53 - 0s - loss: 0.7390 - accuracy: 0.7457 - sparse_categorical_crossentropy: 0.6569 - 321ms/epoch - 6ms/step\n",
            "Best model, accuracy: 74.57%\n"
          ]
        }
      ],
      "source": [
        "## Create MLP\n",
        "\n",
        "print(\"Creating MLP architecture\\n\")\n",
        "\n",
        "# Feature layer\n",
        "l_feat = tf.keras.Input(shape=(num_features))\n",
        "\n",
        "# Fully connected layer with dropout and regularizer\n",
        "l_dropout = tf.keras.layers.Dropout(dropout_rate)(l_feat) # Adjustable dropout?\n",
        "reg = tf.keras.regularizers.L2(l2=l2_reg)\n",
        "l_dense = tf.keras.layers.Dense(n_hidden,activation='relu',use_bias=True,kernel_regularizer=reg)(l_dropout)\n",
        "\n",
        "# Prediction/Softmax layer\n",
        "l_predictions = tf.keras.layers.Dense(n_classes,activation='softmax')(l_dense)\n",
        "\n",
        "# Format data for model training\n",
        "labels_val_squeezed = np.argmax(labels_val,axis=1)\n",
        "labels_test_squeezed = np.argmax(labels_test,axis=1)\n",
        "labels_train_squeezed = np.argmax(labels_train,axis=1)\n",
        "\n",
        "# Compile model\n",
        "train_model = tf.keras.Model(inputs=l_feat, outputs=l_predictions)\n",
        "train_model.compile(optimizer='adam',loss='sparse_categorical_crossentropy',metrics=['accuracy','sparse_categorical_crossentropy'])\n",
        "train_model.summary()\n",
        "\n",
        "# Define training callbacks\n",
        "earlyStopping = tf.keras.callbacks.EarlyStopping(monitor='val_loss', patience=15, verbose=0, mode='min')\n",
        "checkpoint = tf.keras.callbacks.ModelCheckpoint(\"har_best.keras\", monitor=\"val_loss\", save_best_only=True)\n",
        "reduce_lr_loss = tf.keras.callbacks.ReduceLROnPlateau(monitor='val_loss', factor=0.1, patience=7, verbose=1, min_delta=1e-4, mode='min')\n",
        "\n",
        "# Train model\n",
        "history = train_model.fit(\n",
        "    x=features,\n",
        "    y=labels_train_squeezed,\n",
        "    batch_size=batch_size,\n",
        "    epochs=num_training_iterations,\n",
        "    verbose=1,\n",
        "    validation_data=(features_val,labels_val_squeezed),\n",
        "    validation_freq=1,\n",
        "    callbacks=[checkpoint,earlyStopping,reduce_lr_loss]\n",
        ")\n",
        "\n",
        "# Plot the training history\n",
        "loss = history.history['loss']\n",
        "val_loss = history.history['val_loss']\n",
        "val_accuracy = history.history['val_accuracy']\n",
        "\n",
        "epochs = range(1, len(loss) + 1)\n",
        "\n",
        "plt.plot(epochs, loss, 'bo', label='Training loss')\n",
        "plt.plot(epochs, val_loss, 'b', label='Validation loss')\n",
        "plt.plot(epochs,val_accuracy,'r', label='Validation Accuracy')\n",
        "plt.title('Training and validation loss')\n",
        "plt.legend()\n",
        "plt.show()\n",
        "\n",
        "# Load best model and check performance\n",
        "model = tf.keras.models.load_model('har_best.keras')\n",
        "metrics = model.evaluate(x=features_test, y=labels_test_squeezed, verbose=2)\n",
        "acc = metrics[1]\n",
        "print('Best model, accuracy: {:5.2f}%'.format(100 * acc))"
      ]
    },
    {
      "cell_type": "code",
      "execution_count": 6,
      "metadata": {
        "id": "S0UDrMjW6kvm"
      },
      "outputs": [],
      "source": [
        "# Generate representative dataset needed for integer quantisation\n",
        "def representative_data_gen():\n",
        "  for i in range(200):\n",
        "    input_data1 = np.float32(np.expand_dims(features[i],axis=0))\n",
        "    yield [input_data1]"
      ]
    },
    {
      "cell_type": "code",
      "execution_count": 7,
      "metadata": {
        "colab": {
          "base_uri": "https://localhost:8080/"
        },
        "id": "siFc52PWXYuJ",
        "outputId": "c4b4031b-36e9-43d0-f0e7-8f108907dd02"
      },
      "outputs": [
        {
          "output_type": "stream",
          "name": "stderr",
          "text": [
            "INFO:tensorflow:Assets written to: /tmp/tmplljsl1aw/assets\n"
          ]
        }
      ],
      "source": [
        "# Convert keras model to unquantised (16-bit floating point) tflite file for comparison\n",
        "tflite_model_name = 'har_model_fp16'  # Will be given .tflite suffix\n",
        "converter = tf.lite.TFLiteConverter.from_keras_model(model)\n",
        "converter.optimizations = [tf.lite.Optimize.DEFAULT]\n",
        "tflite_model_fp16 = converter.convert()\n",
        "open(tflite_model_name + '.tflite', 'wb').write(tflite_model_fp16)\n",
        "with zipfile.ZipFile(name_fzip,'a') as myzip:\n",
        "  myzip.write(tflite_model_name+'.tflite')"
      ]
    },
    {
      "cell_type": "code",
      "execution_count": 8,
      "metadata": {
        "colab": {
          "base_uri": "https://localhost:8080/"
        },
        "id": "QFPeMIU-Pzfu",
        "outputId": "c4861a93-034b-49e8-f1cf-6119d852e222"
      },
      "outputs": [
        {
          "output_type": "stream",
          "name": "stderr",
          "text": [
            "INFO:tensorflow:Assets written to: /tmp/tmpvj_vwy90/assets\n"
          ]
        },
        {
          "output_type": "stream",
          "name": "stdout",
          "text": [
            "input:  <class 'numpy.uint8'>\n",
            "output:  <class 'numpy.uint8'>\n",
            "[{'name': 'serving_default_input_1:0', 'index': 0, 'shape': array([ 1, 40], dtype=int32), 'shape_signature': array([-1, 40], dtype=int32), 'dtype': <class 'numpy.uint8'>, 'quantization': (0.31901922821998596, 1), 'quantization_parameters': {'scales': array([0.31901923], dtype=float32), 'zero_points': array([1], dtype=int32), 'quantized_dimension': 0}, 'sparsity_parameters': {}}]\n"
          ]
        },
        {
          "output_type": "stream",
          "name": "stderr",
          "text": [
            "/usr/local/lib/python3.10/dist-packages/tensorflow/lite/python/convert.py:953: UserWarning: Statistics for quantized inputs were expected, but not specified; continuing anyway.\n",
            "  warnings.warn(\n"
          ]
        }
      ],
      "source": [
        "# Convert Keras model to a quantised (8-bit integer) tflite model\n",
        "tflite_model_name = 'har_model_ui8'  # Will be given .tflite suffix\n",
        "converter = tf.lite.TFLiteConverter.from_keras_model(model)\n",
        "converter.optimizations = [tf.lite.Optimize.DEFAULT]\n",
        "converter.representative_dataset = representative_data_gen\n",
        "converter.target_spec.supported_ops = [tf.lite.OpsSet.TFLITE_BUILTINS_INT8]\n",
        "converter.inference_input_type = tf.uint8\n",
        "converter.inference_output_type = tf.uint8\n",
        "tflite_model_ui8 = converter.convert()\n",
        "open(tflite_model_name + '.tflite', 'wb').write(tflite_model_ui8)\n",
        "with zipfile.ZipFile(name_fzip,'a') as myzip:\n",
        "  myzip.write(tflite_model_name+'.tflite')\n",
        "\n",
        "# Check model input/output types\n",
        "interpreter = tf.lite.Interpreter(model_content=tflite_model_ui8)\n",
        "input_type = interpreter.get_input_details()[0]['dtype']\n",
        "print('input: ', input_type)\n",
        "output_type = interpreter.get_output_details()[0]['dtype']\n",
        "print('output: ', output_type)\n",
        "print(interpreter.get_input_details())"
      ]
    },
    {
      "cell_type": "code",
      "execution_count": 9,
      "metadata": {
        "colab": {
          "base_uri": "https://localhost:8080/"
        },
        "id": "n2j2VEnedXu3",
        "outputId": "2c5d5f92-6c4e-4488-f1ba-a1e0f25dc566"
      },
      "outputs": [
        {
          "output_type": "execute_result",
          "data": {
            "text/plain": [
              "53512"
            ]
          },
          "metadata": {},
          "execution_count": 9
        }
      ],
      "source": [
        "# Save models as files\n",
        "import pathlib\n",
        "\n",
        "tflite_models_dir = pathlib.Path(\"/tmp/mnist_tflite_models/\")\n",
        "tflite_models_dir.mkdir(exist_ok=True, parents=True)\n",
        "\n",
        "# Save the unquantized/float model:\n",
        "tflite_model_file = tflite_models_dir/\"har_model_fp16.tflite\"\n",
        "tflite_model_file.write_bytes(tflite_model_fp16)\n",
        "# Save the quantized model:\n",
        "tflite_model_quant_file = tflite_models_dir/\"har_model_ui8.tflite\"\n",
        "tflite_model_quant_file.write_bytes(tflite_model_ui8)"
      ]
    },
    {
      "cell_type": "code",
      "execution_count": 10,
      "metadata": {
        "id": "cnmD4BAob59a"
      },
      "outputs": [],
      "source": [
        "# Define necessary variables for functions\n",
        "test_feature_data = np.float32(features_test)\n",
        "test_labels = labels_test_squeezed"
      ]
    },
    {
      "cell_type": "code",
      "execution_count": 11,
      "metadata": {
        "id": "pJx2vZH8Y-o9"
      },
      "outputs": [],
      "source": [
        "# Helper function to run inference on a TFLite model\n",
        "def run_tflite_model(tflite_file, test_data_indices):\n",
        "  global test_feature_data\n",
        "\n",
        "  # Initialize the interpreter\n",
        "  interpreter = tf.lite.Interpreter(model_path=str(tflite_file))\n",
        "  interpreter.allocate_tensors()\n",
        "\n",
        "  input_details = interpreter.get_input_details()[0]\n",
        "  output_details = interpreter.get_output_details()[0]\n",
        "\n",
        "  predictions = np.zeros((len(test_data_indices),), dtype=int)\n",
        "  for i, test_data_index in enumerate(test_data_indices):\n",
        "    test_features = test_feature_data[test_data_index]\n",
        "\n",
        "    # Check if the input type is quantized, then rescale input data to uint8\n",
        "    if input_details['dtype'] == np.uint8:\n",
        "      input_scale, input_zero_point = input_details[\"quantization\"]\n",
        "      test_features = test_features / input_scale + input_zero_point\n",
        "\n",
        "    test_features = np.expand_dims(test_features, axis=0).astype(input_details[\"dtype\"])\n",
        "    interpreter.set_tensor(input_details[\"index\"], test_features)\n",
        "    interpreter.invoke()\n",
        "    output = interpreter.get_tensor(output_details[\"index\"])[0]\n",
        "\n",
        "    predictions[i] = output.argmax()\n",
        "  return predictions"
      ]
    },
    {
      "cell_type": "code",
      "execution_count": 12,
      "metadata": {
        "id": "jtgI4n_ug7Ap"
      },
      "outputs": [],
      "source": [
        "# Helper function to evaluate a TFLite model on all segments\n",
        "def evaluate_model(tflite_file, model_type):\n",
        "  global test_feature_data\n",
        "  global test_labels\n",
        "\n",
        "  test_data_indices = range(test_feature_data.shape[0])\n",
        "  predictions = run_tflite_model(tflite_file, test_data_indices)\n",
        "\n",
        "  counter = 0\n",
        "  for i in range(len(test_feature_data)):\n",
        "    # Uncomment to print individual inference results to console\n",
        "    # print(str(i+1)+ \" | Match: \" + str(test_labels[i] == predictions[i]) + \" | actual: \" + str(test_labels[i]) + \" | predicted: \" + str(predictions[i]))\n",
        "    if test_labels[i] == predictions[i]:\n",
        "      counter += 1\n",
        "\n",
        "  accuracy = counter * 100 / len(test_feature_data)\n",
        "\n",
        "  print('%s model accuracy is %.4f%% (Number of test samples=%d)' % (\n",
        "      model_type, accuracy, len(test_feature_data)))"
      ]
    },
    {
      "cell_type": "code",
      "execution_count": 13,
      "metadata": {
        "id": "ZaoNEPDEcXK-",
        "colab": {
          "base_uri": "https://localhost:8080/"
        },
        "outputId": "2dd79720-c82c-4618-c699-d3e4ef135c97"
      },
      "outputs": [
        {
          "output_type": "stream",
          "name": "stdout",
          "text": [
            "Quantized model accuracy is 73.9823% (Number of test samples=1695)\n",
            "Float model accuracy is 73.2743% (Number of test samples=1695)\n"
          ]
        }
      ],
      "source": [
        "# Test model accuracy\n",
        "samples_idx = np.random.randint(0,test_feature_data.shape[0],30)\n",
        "evaluate_model(tflite_model_quant_file, model_type=\"Quantized\")\n",
        "evaluate_model(tflite_model_file, model_type=\"Float\")"
      ]
    },
    {
      "cell_type": "code",
      "execution_count": 14,
      "metadata": {
        "id": "_1raziQq2xUM"
      },
      "outputs": [],
      "source": [
        "# Save one segment quantised test data as c array for testing\n",
        "input1_details = interpreter.get_input_details()[0]\n",
        "input1_scale, input1_zero_point = input1_details[\"quantization\"]\n",
        "\n",
        "test_array_features = np.floor(features_test[0] / input1_scale + input1_zero_point).astype(int)\n",
        "\n",
        "data_filename = 'test_data'\n",
        "c_str = ''\n",
        "c_str += '#include \"' + data_filename + '.h\"\\n\\n'\n",
        "\n",
        "c_str += 'uint8_t test_input1[] = {\\n'\n",
        "\n",
        "# Add values of single feature vector\n",
        "for i,element in enumerate(test_array_features.flatten()):\n",
        "  if element < 0:\n",
        "    element = 0\n",
        "  elif element > 255:\n",
        "    element = 255\n",
        "  c_str += str(element)\n",
        "  if (i + 1) < len(test_array_features.flatten()):\n",
        "      c_str += ','\n",
        "  if (i + 1) % 12 == 0:\n",
        "      c_str += '\\n '\n",
        "\n",
        "c_str += '};\\n'\n",
        "c_str += 'const unsigned int test_input1_len = ' + str(len(features_test[0].flatten()))\n",
        "c_str += ';\\n\\n'\n",
        "\n",
        "c_str += '// test_label = ' + str(labels_test_squeezed[0]) + ';\\n'\n",
        "\n",
        "with open(data_filename + '.cpp', 'w') as file:\n",
        "  file.write(c_str)\n",
        "with zipfile.ZipFile(name_fzip,'a') as myzip:\n",
        "  myzip.write(data_filename+'.cpp')"
      ]
    },
    {
      "cell_type": "code",
      "execution_count": 15,
      "metadata": {
        "id": "g6cq4k_cQBtc"
      },
      "outputs": [],
      "source": [
        "# Function: Convert some model into an array for C programming\n",
        "def hex_to_c_array(hex_data):\n",
        "  var_name = 'g_model'\n",
        "\n",
        "  c_str = ''\n",
        "\n",
        "  # Create header guard\n",
        "  c_str += '#include \"har_detection_model.h\"\\n\\n'\n",
        "\n",
        "\n",
        "  # Declare C variable\n",
        "  c_str += 'const unsigned char ' + var_name + '[] = {'\n",
        "  hex_array = []\n",
        "  for i, val in enumerate(hex_data) :\n",
        "\n",
        "    # Construct string from hex\n",
        "    hex_str = format(val, '#04x')\n",
        "\n",
        "    # Add formatting so each line stays within 80 characters\n",
        "    if (i + 1) < len(hex_data):\n",
        "      hex_str += ','\n",
        "    if (i + 1) % 12 == 0:\n",
        "      hex_str += '\\n '\n",
        "    hex_array.append(hex_str)\n",
        "\n",
        "  # Add closing brace\n",
        "  c_str += '\\n ' + format(' '.join(hex_array)) + '\\n};\\n\\n'\n",
        "\n",
        "    # Add array length at top of file\n",
        "  c_str += 'const unsigned int ' + var_name + '_len = ' + str(len(hex_data)) + ';\\n'\n",
        "\n",
        "  return c_str"
      ]
    },
    {
      "cell_type": "code",
      "execution_count": 16,
      "metadata": {
        "id": "WcpmrHn3QDMu"
      },
      "outputs": [],
      "source": [
        "# # Write TFLite model to a C source file\n",
        "c_model_name = 'har_detection_model'\n",
        "with open(c_model_name + '.cpp', 'w') as file:\n",
        "  file.write(hex_to_c_array(tflite_model_ui8))\n",
        "with zipfile.ZipFile(name_fzip,'a') as myzip:\n",
        "  myzip.write(c_model_name+'.cpp')\n",
        "\n",
        "# Alternative method\n",
        "# !xxd -i har_model.tflite > har_detection_model.cpp"
      ]
    }
  ],
  "metadata": {
    "colab": {
      "gpuType": "T4",
      "provenance": []
    },
    "kernelspec": {
      "display_name": "Python 3",
      "name": "python3"
    },
    "language_info": {
      "name": "python"
    }
  },
  "nbformat": 4,
  "nbformat_minor": 0
}