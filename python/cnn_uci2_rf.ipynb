{
  "cells": [
    {
      "cell_type": "code",
      "execution_count": 2,
      "metadata": {
        "colab": {
          "base_uri": "https://localhost:8080/"
        },
        "id": "gIc0x7KJLGhY",
        "outputId": "a0f8ba7d-c9e1-48c5-e43d-fe9589fa7e0d"
      },
      "outputs": [
        {
          "output_type": "stream",
          "name": "stdout",
          "text": [
            "Drive already mounted at /content/drive; to attempt to forcibly remount, call drive.mount(\"/content/drive\", force_remount=True).\n"
          ]
        }
      ],
      "source": [
        "# Connect to Drive\n",
        "from google.colab import drive\n",
        "drive.mount('/content/drive')"
      ]
    },
    {
      "cell_type": "code",
      "execution_count": 3,
      "metadata": {
        "id": "A9kMuVVsbiCd",
        "colab": {
          "base_uri": "https://localhost:8080/"
        },
        "outputId": "caa08f5f-68f7-4787-9c0d-7c4b63e784f4"
      },
      "outputs": [
        {
          "output_type": "stream",
          "name": "stderr",
          "text": [
            "DEBUG:tensorflow:Falling back to TensorFlow client; we recommended you install the Cloud TPU client directly with pip install cloud-tpu-client.\n"
          ]
        },
        {
          "output_type": "stream",
          "name": "stdout",
          "text": [
            "TensorFlow version: 2.15.0\n"
          ]
        }
      ],
      "source": [
        "# Imports, setup and parameters\n",
        "import numpy as np\n",
        "import math\n",
        "import zipfile\n",
        "import pandas as pd\n",
        "from sklearn.metrics import classification_report\n",
        "from sklearn.preprocessing import normalize\n",
        "import matplotlib.pyplot as plt\n",
        "import logging\n",
        "logging.getLogger(\"tensorflow\").setLevel(logging.DEBUG)\n",
        "import tensorflow as tf\n",
        "from tensorflow.keras import layers\n",
        "\n",
        "\n",
        "print(\"TensorFlow version:\", tf.__version__)\n",
        "\n",
        "tf.keras.backend.clear_session()\n",
        "tf.get_logger().setLevel('DEBUG')\n",
        "\n",
        "\n",
        "file_path = \"/content/drive/MyDrive/University/L3_Project/HAR/data_processing/uci_data\"\n",
        "\n",
        "## CNN parameters\n",
        "\n",
        "segment_size = 128\n",
        "num_input_channels = 6\n",
        "\n",
        "num_training_iterations = 200\n",
        "batch_size = 200\n",
        "\n",
        "l2_reg = 5e-4\n",
        "learning_rate = 5e-4\n",
        "dropout_rate = 0.05\n",
        "\n",
        "n_filters = 2\n",
        "filters_size = 2\n",
        "n_hidden = 8\n",
        "n_classes = 6\n",
        "id = \"b1\"; # Used to uniquely identify model\n",
        "\n",
        "name_fzip = \"a\"+str(id)+\"_\"+str(n_filters)+\"_\"+str(filters_size)+\"_\"+str(n_hidden)+\".zip\""
      ]
    },
    {
      "cell_type": "code",
      "execution_count": 4,
      "metadata": {
        "colab": {
          "base_uri": "https://localhost:8080/"
        },
        "id": "eOGRQqsgBatZ",
        "outputId": "009dafb3-f45f-4912-dfff-cf6391cfe7f4"
      },
      "outputs": [
        {
          "output_type": "stream",
          "name": "stdout",
          "text": [
            "Loading UCI dataset...\n",
            "Dataset was uploaded\n",
            "\n"
          ]
        }
      ],
      "source": [
        "## Load the dataset\n",
        "\n",
        "print('Loading UCI dataset...')\n",
        "\n",
        "# Read training data\n",
        "\n",
        "# Modified paths for Drive\n",
        "fa = open(f\"{file_path}/all_data.csv\")\n",
        "ff = open(f\"{file_path}/features.csv\")\n",
        "\n",
        "data_train = np.loadtxt(fname = fa, delimiter = ',')\n",
        "features = np.loadtxt(fname = ff, delimiter = ',')\n",
        "\n",
        "fa.close(); ff.close()\n",
        "\n",
        "# Reading validation data\n",
        "\n",
        "fa = open(f\"{file_path}/all_data_val.csv\")\n",
        "ff = open(f\"{file_path}/val_features.csv\")\n",
        "\n",
        "data_val = np.loadtxt(fname = fa, delimiter = ',')\n",
        "features_val = np.loadtxt(fname = ff, delimiter = ',')\n",
        "\n",
        "fa.close(); ff.close()\n",
        "\n",
        "# Reading test data\n",
        "\n",
        "fa = open(f\"{file_path}/all_data_test.csv\")\n",
        "ff = open(f\"{file_path}/test_features.csv\")\n",
        "\n",
        "data_test = np.loadtxt(fname = fa, delimiter = ',')\n",
        "features_test = np.loadtxt(fname = ff, delimiter = ',')\n",
        "\n",
        "fa.close(); ff.close()\n",
        "\n",
        "# Reading labels\n",
        "#   Training labels\n",
        "fa = open(f\"{file_path}/answers.csv\")\n",
        "labels_train = np.loadtxt(fname = fa, delimiter = ',')\n",
        "fa.close()\n",
        "\n",
        "#   Validation labels\n",
        "fa = open(f\"{file_path}/answers_val.csv\")\n",
        "labels_val = np.loadtxt(fname = fa, delimiter = ',')\n",
        "fa.close()\n",
        "\n",
        "#   Test labels\n",
        "fa = open(f\"{file_path}/answers_test.csv\")\n",
        "labels_test = np.loadtxt(fname = fa, delimiter = ',')\n",
        "fa.close()\n",
        "\n",
        "train_size = data_train.shape[0]\n",
        "val_size = data_val.shape[0]\n",
        "test_size = data_test.shape[0]\n",
        "num_features = features.shape[1]\n",
        "\n",
        "data_val = np.reshape(data_val, [data_val.shape[0], segment_size * num_input_channels])\n",
        "labels_val = np.reshape(labels_val, [labels_val.shape[0], n_classes])\n",
        "features_val = np.reshape(features_val, [features_val.shape[0], num_features])\n",
        "labels_val_max = np.expand_dims(np.argmax(labels_val,axis=1),axis=1)\n",
        "\n",
        "data_test = np.reshape(data_test, [data_test.shape[0], segment_size * num_input_channels])\n",
        "labels_test = np.reshape(labels_test, [labels_test.shape[0], n_classes])\n",
        "features_test = np.reshape(features_test, [features_test.shape[0], num_features])\n",
        "labels_test_max = np.expand_dims(np.argmax(labels_test,axis=1),axis=1)\n",
        "\n",
        "\n",
        "print(\"Dataset was uploaded\\n\")"
      ]
    },
    {
      "cell_type": "code",
      "execution_count": 5,
      "metadata": {
        "id": "b9dam1hv12Oh",
        "colab": {
          "base_uri": "https://localhost:8080/"
        },
        "outputId": "22f96ced-161e-4956-cc56-9f1b9389c242"
      },
      "outputs": [
        {
          "output_type": "stream",
          "name": "stdout",
          "text": [
            "Nano transmission file generated\n"
          ]
        }
      ],
      "source": [
        "# Create file with data segments and corresponding features for transmission to Nano\n",
        "data_combined = np.concatenate((data_test,features_test,labels_test_max),axis=1)\n",
        "\n",
        "# Specifying the file path\n",
        "file_path = 'data_combined.csv'\n",
        "\n",
        "# Writing the array to the CSV file\n",
        "np.savetxt(file_path, data_combined, delimiter=',', fmt='%3.4g')\n",
        "\n",
        "with zipfile.ZipFile(name_fzip,'a') as myzip:\n",
        "  myzip.write(file_path)\n",
        "\n",
        "print(\"Nano transmission file generated\")"
      ]
    },
    {
      "cell_type": "code",
      "execution_count": 6,
      "metadata": {
        "colab": {
          "base_uri": "https://localhost:8080/",
          "height": 1000
        },
        "id": "6Oucfbh5KpgW",
        "outputId": "8f8f3d3a-53c1-4cd3-dc77-10352235fe7e"
      },
      "outputs": [
        {
          "output_type": "stream",
          "name": "stdout",
          "text": [
            "Creating CNN architecture\n",
            "\n",
            "Model: \"model\"\n",
            "__________________________________________________________________________________________________\n",
            " Layer (type)                Output Shape                 Param #   Connected to                  \n",
            "==================================================================================================\n",
            " input_1 (InputLayer)        [(None, 1, 128, 6)]          0         []                            \n",
            "                                                                                                  \n",
            " conv1d (Conv1D)             (None, 1, 128, 2)            26        ['input_1[0][0]']             \n",
            "                                                                                                  \n",
            " max_pooling2d (MaxPooling2  (None, 1, 32, 2)             0         ['conv1d[0][0]']              \n",
            " D)                                                                                               \n",
            "                                                                                                  \n",
            " flatten (Flatten)           (None, 64)                   0         ['max_pooling2d[0][0]']       \n",
            "                                                                                                  \n",
            " input_2 (InputLayer)        [(None, 40)]                 0         []                            \n",
            "                                                                                                  \n",
            " concatenate (Concatenate)   (None, 104)                  0         ['flatten[0][0]',             \n",
            "                                                                     'input_2[0][0]']             \n",
            "                                                                                                  \n",
            " dropout (Dropout)           (None, 104)                  0         ['concatenate[0][0]']         \n",
            "                                                                                                  \n",
            " dense (Dense)               (None, 8)                    840       ['dropout[0][0]']             \n",
            "                                                                                                  \n",
            " dense_1 (Dense)             (None, 6)                    54        ['dense[0][0]']               \n",
            "                                                                                                  \n",
            "==================================================================================================\n",
            "Total params: 920 (3.59 KB)\n",
            "Trainable params: 920 (3.59 KB)\n",
            "Non-trainable params: 0 (0.00 Byte)\n",
            "__________________________________________________________________________________________________\n",
            "Epoch 1/200\n",
            "38/38 [==============================] - 5s 17ms/step - loss: 6.7335 - accuracy: 0.2011 - sparse_categorical_crossentropy: 6.7260 - val_loss: 3.5798 - val_accuracy: 0.2227 - val_sparse_categorical_crossentropy: 3.5723 - lr: 0.0010\n",
            "Epoch 2/200\n",
            "38/38 [==============================] - 0s 6ms/step - loss: 2.7193 - accuracy: 0.1915 - sparse_categorical_crossentropy: 2.7118 - val_loss: 2.1168 - val_accuracy: 0.1749 - val_sparse_categorical_crossentropy: 2.1093 - lr: 0.0010\n",
            "Epoch 3/200\n",
            "38/38 [==============================] - 0s 6ms/step - loss: 2.0185 - accuracy: 0.1753 - sparse_categorical_crossentropy: 2.0110 - val_loss: 1.9375 - val_accuracy: 0.1649 - val_sparse_categorical_crossentropy: 1.9301 - lr: 0.0010\n",
            "Epoch 4/200\n",
            "38/38 [==============================] - 0s 6ms/step - loss: 1.8921 - accuracy: 0.1772 - sparse_categorical_crossentropy: 1.8847 - val_loss: 1.8705 - val_accuracy: 0.1564 - val_sparse_categorical_crossentropy: 1.8631 - lr: 0.0010\n",
            "Epoch 5/200\n",
            "38/38 [==============================] - 0s 6ms/step - loss: 1.8208 - accuracy: 0.1834 - sparse_categorical_crossentropy: 1.8134 - val_loss: 1.7968 - val_accuracy: 0.1572 - val_sparse_categorical_crossentropy: 1.7894 - lr: 0.0010\n",
            "Epoch 6/200\n",
            "38/38 [==============================] - 0s 6ms/step - loss: 1.7220 - accuracy: 0.2518 - sparse_categorical_crossentropy: 1.7145 - val_loss: 1.6735 - val_accuracy: 0.2689 - val_sparse_categorical_crossentropy: 1.6657 - lr: 0.0010\n",
            "Epoch 7/200\n",
            "38/38 [==============================] - 0s 6ms/step - loss: 1.6106 - accuracy: 0.3215 - sparse_categorical_crossentropy: 1.6026 - val_loss: 1.5829 - val_accuracy: 0.3274 - val_sparse_categorical_crossentropy: 1.5747 - lr: 0.0010\n",
            "Epoch 8/200\n",
            "38/38 [==============================] - 0s 6ms/step - loss: 1.5359 - accuracy: 0.3467 - sparse_categorical_crossentropy: 1.5275 - val_loss: 1.5364 - val_accuracy: 0.3436 - val_sparse_categorical_crossentropy: 1.5279 - lr: 0.0010\n",
            "Epoch 9/200\n",
            "38/38 [==============================] - 0s 6ms/step - loss: 1.4880 - accuracy: 0.3640 - sparse_categorical_crossentropy: 1.4793 - val_loss: 1.4809 - val_accuracy: 0.3436 - val_sparse_categorical_crossentropy: 1.4720 - lr: 0.0010\n",
            "Epoch 10/200\n",
            "38/38 [==============================] - 0s 6ms/step - loss: 1.4414 - accuracy: 0.3621 - sparse_categorical_crossentropy: 1.4324 - val_loss: 1.4475 - val_accuracy: 0.3428 - val_sparse_categorical_crossentropy: 1.4383 - lr: 0.0010\n",
            "Epoch 11/200\n",
            "38/38 [==============================] - 0s 6ms/step - loss: 1.4033 - accuracy: 0.3602 - sparse_categorical_crossentropy: 1.3939 - val_loss: 1.4132 - val_accuracy: 0.3475 - val_sparse_categorical_crossentropy: 1.4037 - lr: 0.0010\n",
            "Epoch 12/200\n",
            "38/38 [==============================] - 0s 6ms/step - loss: 1.3744 - accuracy: 0.3658 - sparse_categorical_crossentropy: 1.3648 - val_loss: 1.3829 - val_accuracy: 0.3498 - val_sparse_categorical_crossentropy: 1.3731 - lr: 0.0010\n",
            "Epoch 13/200\n",
            "38/38 [==============================] - 0s 5ms/step - loss: 1.3401 - accuracy: 0.3729 - sparse_categorical_crossentropy: 1.3303 - val_loss: 1.3556 - val_accuracy: 0.3544 - val_sparse_categorical_crossentropy: 1.3456 - lr: 0.0010\n",
            "Epoch 14/200\n",
            "38/38 [==============================] - 0s 6ms/step - loss: 1.3179 - accuracy: 0.3763 - sparse_categorical_crossentropy: 1.3078 - val_loss: 1.3274 - val_accuracy: 0.3613 - val_sparse_categorical_crossentropy: 1.3172 - lr: 0.0010\n",
            "Epoch 15/200\n",
            "38/38 [==============================] - 0s 10ms/step - loss: 1.2946 - accuracy: 0.3806 - sparse_categorical_crossentropy: 1.2843 - val_loss: 1.3069 - val_accuracy: 0.3567 - val_sparse_categorical_crossentropy: 1.2966 - lr: 0.0010\n",
            "Epoch 16/200\n",
            "38/38 [==============================] - 0s 10ms/step - loss: 1.2635 - accuracy: 0.3870 - sparse_categorical_crossentropy: 1.2530 - val_loss: 1.2768 - val_accuracy: 0.3729 - val_sparse_categorical_crossentropy: 1.2663 - lr: 0.0010\n",
            "Epoch 17/200\n",
            "38/38 [==============================] - 0s 10ms/step - loss: 1.2410 - accuracy: 0.3985 - sparse_categorical_crossentropy: 1.2304 - val_loss: 1.2491 - val_accuracy: 0.3821 - val_sparse_categorical_crossentropy: 1.2384 - lr: 0.0010\n",
            "Epoch 18/200\n",
            "38/38 [==============================] - 0s 10ms/step - loss: 1.2049 - accuracy: 0.4211 - sparse_categorical_crossentropy: 1.1941 - val_loss: 1.2124 - val_accuracy: 0.4006 - val_sparse_categorical_crossentropy: 1.2015 - lr: 0.0010\n",
            "Epoch 19/200\n",
            "38/38 [==============================] - 0s 9ms/step - loss: 1.1614 - accuracy: 0.4384 - sparse_categorical_crossentropy: 1.1504 - val_loss: 1.1786 - val_accuracy: 0.4268 - val_sparse_categorical_crossentropy: 1.1675 - lr: 0.0010\n",
            "Epoch 20/200\n",
            "38/38 [==============================] - 0s 9ms/step - loss: 1.1156 - accuracy: 0.4688 - sparse_categorical_crossentropy: 1.1043 - val_loss: 1.1214 - val_accuracy: 0.4669 - val_sparse_categorical_crossentropy: 1.1101 - lr: 0.0010\n",
            "Epoch 21/200\n",
            "38/38 [==============================] - 0s 10ms/step - loss: 1.0734 - accuracy: 0.4937 - sparse_categorical_crossentropy: 1.0620 - val_loss: 1.0837 - val_accuracy: 0.4861 - val_sparse_categorical_crossentropy: 1.0722 - lr: 0.0010\n",
            "Epoch 22/200\n",
            "38/38 [==============================] - 0s 8ms/step - loss: 1.0331 - accuracy: 0.5109 - sparse_categorical_crossentropy: 1.0215 - val_loss: 1.0443 - val_accuracy: 0.5223 - val_sparse_categorical_crossentropy: 1.0325 - lr: 0.0010\n",
            "Epoch 23/200\n",
            "38/38 [==============================] - 0s 9ms/step - loss: 0.9858 - accuracy: 0.5425 - sparse_categorical_crossentropy: 0.9740 - val_loss: 0.9961 - val_accuracy: 0.5578 - val_sparse_categorical_crossentropy: 0.9842 - lr: 0.0010\n",
            "Epoch 24/200\n",
            "38/38 [==============================] - 0s 8ms/step - loss: 0.9211 - accuracy: 0.5928 - sparse_categorical_crossentropy: 0.9090 - val_loss: 0.9461 - val_accuracy: 0.6079 - val_sparse_categorical_crossentropy: 0.9338 - lr: 0.0010\n",
            "Epoch 25/200\n",
            "38/38 [==============================] - 0s 8ms/step - loss: 0.8431 - accuracy: 0.6283 - sparse_categorical_crossentropy: 0.8307 - val_loss: 0.8530 - val_accuracy: 0.6294 - val_sparse_categorical_crossentropy: 0.8403 - lr: 0.0010\n",
            "Epoch 26/200\n",
            "38/38 [==============================] - 0s 10ms/step - loss: 0.7374 - accuracy: 0.6832 - sparse_categorical_crossentropy: 0.7245 - val_loss: 0.7862 - val_accuracy: 0.6695 - val_sparse_categorical_crossentropy: 0.7732 - lr: 0.0010\n",
            "Epoch 27/200\n",
            "38/38 [==============================] - 0s 9ms/step - loss: 0.6366 - accuracy: 0.7362 - sparse_categorical_crossentropy: 0.6233 - val_loss: 0.7015 - val_accuracy: 0.7119 - val_sparse_categorical_crossentropy: 0.6880 - lr: 0.0010\n",
            "Epoch 28/200\n",
            "38/38 [==============================] - 0s 7ms/step - loss: 0.5389 - accuracy: 0.7894 - sparse_categorical_crossentropy: 0.5252 - val_loss: 0.6343 - val_accuracy: 0.7450 - val_sparse_categorical_crossentropy: 0.6203 - lr: 0.0010\n",
            "Epoch 29/200\n",
            "38/38 [==============================] - 0s 6ms/step - loss: 0.4789 - accuracy: 0.8089 - sparse_categorical_crossentropy: 0.4648 - val_loss: 0.6052 - val_accuracy: 0.7519 - val_sparse_categorical_crossentropy: 0.5908 - lr: 0.0010\n",
            "Epoch 30/200\n",
            "38/38 [==============================] - 0s 6ms/step - loss: 0.4529 - accuracy: 0.8120 - sparse_categorical_crossentropy: 0.4383 - val_loss: 0.5927 - val_accuracy: 0.7635 - val_sparse_categorical_crossentropy: 0.5779 - lr: 0.0010\n",
            "Epoch 31/200\n",
            "38/38 [==============================] - 0s 6ms/step - loss: 0.4307 - accuracy: 0.8222 - sparse_categorical_crossentropy: 0.4158 - val_loss: 0.5826 - val_accuracy: 0.7743 - val_sparse_categorical_crossentropy: 0.5675 - lr: 0.0010\n",
            "Epoch 32/200\n",
            "38/38 [==============================] - 0s 5ms/step - loss: 0.4213 - accuracy: 0.8288 - sparse_categorical_crossentropy: 0.4060 - val_loss: 0.5770 - val_accuracy: 0.7797 - val_sparse_categorical_crossentropy: 0.5617 - lr: 0.0010\n",
            "Epoch 33/200\n",
            "38/38 [==============================] - 0s 6ms/step - loss: 0.4018 - accuracy: 0.8411 - sparse_categorical_crossentropy: 0.3864 - val_loss: 0.5741 - val_accuracy: 0.7781 - val_sparse_categorical_crossentropy: 0.5586 - lr: 0.0010\n",
            "Epoch 34/200\n",
            "38/38 [==============================] - 0s 10ms/step - loss: 0.3970 - accuracy: 0.8432 - sparse_categorical_crossentropy: 0.3814 - val_loss: 0.5934 - val_accuracy: 0.7858 - val_sparse_categorical_crossentropy: 0.5779 - lr: 0.0010\n",
            "Epoch 35/200\n",
            "38/38 [==============================] - 0s 5ms/step - loss: 0.3894 - accuracy: 0.8395 - sparse_categorical_crossentropy: 0.3738 - val_loss: 0.5910 - val_accuracy: 0.7773 - val_sparse_categorical_crossentropy: 0.5754 - lr: 0.0010\n",
            "Epoch 36/200\n",
            "38/38 [==============================] - 0s 5ms/step - loss: 0.3817 - accuracy: 0.8461 - sparse_categorical_crossentropy: 0.3661 - val_loss: 0.6114 - val_accuracy: 0.7897 - val_sparse_categorical_crossentropy: 0.5958 - lr: 0.0010\n",
            "Epoch 37/200\n",
            "38/38 [==============================] - 0s 5ms/step - loss: 0.3774 - accuracy: 0.8484 - sparse_categorical_crossentropy: 0.3618 - val_loss: 0.6000 - val_accuracy: 0.7797 - val_sparse_categorical_crossentropy: 0.5844 - lr: 0.0010\n",
            "Epoch 38/200\n",
            "38/38 [==============================] - 0s 5ms/step - loss: 0.3688 - accuracy: 0.8540 - sparse_categorical_crossentropy: 0.3532 - val_loss: 0.6182 - val_accuracy: 0.7881 - val_sparse_categorical_crossentropy: 0.6027 - lr: 0.0010\n",
            "Epoch 39/200\n",
            "38/38 [==============================] - 0s 5ms/step - loss: 0.3626 - accuracy: 0.8512 - sparse_categorical_crossentropy: 0.3471 - val_loss: 0.6330 - val_accuracy: 0.7912 - val_sparse_categorical_crossentropy: 0.6175 - lr: 0.0010\n",
            "Epoch 40/200\n",
            "30/38 [======================>.......] - ETA: 0s - loss: 0.3648 - accuracy: 0.8508 - sparse_categorical_crossentropy: 0.3494\n",
            "Epoch 40: ReduceLROnPlateau reducing learning rate to 0.00010000000474974513.\n",
            "38/38 [==============================] - 0s 5ms/step - loss: 0.3663 - accuracy: 0.8519 - sparse_categorical_crossentropy: 0.3508 - val_loss: 0.6596 - val_accuracy: 0.7874 - val_sparse_categorical_crossentropy: 0.6442 - lr: 0.0010\n",
            "Epoch 41/200\n",
            "38/38 [==============================] - 0s 5ms/step - loss: 0.3631 - accuracy: 0.8526 - sparse_categorical_crossentropy: 0.3478 - val_loss: 0.6397 - val_accuracy: 0.7889 - val_sparse_categorical_crossentropy: 0.6243 - lr: 1.0000e-04\n",
            "Epoch 42/200\n",
            "38/38 [==============================] - 0s 5ms/step - loss: 0.3547 - accuracy: 0.8573 - sparse_categorical_crossentropy: 0.3393 - val_loss: 0.6382 - val_accuracy: 0.7881 - val_sparse_categorical_crossentropy: 0.6228 - lr: 1.0000e-04\n",
            "Epoch 43/200\n",
            "38/38 [==============================] - 0s 6ms/step - loss: 0.3563 - accuracy: 0.8584 - sparse_categorical_crossentropy: 0.3409 - val_loss: 0.6399 - val_accuracy: 0.7912 - val_sparse_categorical_crossentropy: 0.6246 - lr: 1.0000e-04\n",
            "Epoch 44/200\n",
            "38/38 [==============================] - 0s 9ms/step - loss: 0.3523 - accuracy: 0.8620 - sparse_categorical_crossentropy: 0.3369 - val_loss: 0.6402 - val_accuracy: 0.7889 - val_sparse_categorical_crossentropy: 0.6248 - lr: 1.0000e-04\n",
            "Epoch 45/200\n",
            "38/38 [==============================] - 0s 10ms/step - loss: 0.3513 - accuracy: 0.8578 - sparse_categorical_crossentropy: 0.3359 - val_loss: 0.6403 - val_accuracy: 0.7928 - val_sparse_categorical_crossentropy: 0.6249 - lr: 1.0000e-04\n",
            "Epoch 46/200\n",
            "38/38 [==============================] - 0s 10ms/step - loss: 0.3550 - accuracy: 0.8594 - sparse_categorical_crossentropy: 0.3397 - val_loss: 0.6413 - val_accuracy: 0.7904 - val_sparse_categorical_crossentropy: 0.6259 - lr: 1.0000e-04\n",
            "Epoch 47/200\n",
            "29/38 [=====================>........] - ETA: 0s - loss: 0.3525 - accuracy: 0.8624 - sparse_categorical_crossentropy: 0.3372\n",
            "Epoch 47: ReduceLROnPlateau reducing learning rate to 1.0000000474974514e-05.\n",
            "38/38 [==============================] - 0s 5ms/step - loss: 0.3529 - accuracy: 0.8619 - sparse_categorical_crossentropy: 0.3376 - val_loss: 0.6426 - val_accuracy: 0.7920 - val_sparse_categorical_crossentropy: 0.6272 - lr: 1.0000e-04\n",
            "Epoch 48/200\n",
            "38/38 [==============================] - 0s 5ms/step - loss: 0.3524 - accuracy: 0.8589 - sparse_categorical_crossentropy: 0.3370 - val_loss: 0.6425 - val_accuracy: 0.7920 - val_sparse_categorical_crossentropy: 0.6272 - lr: 1.0000e-05\n"
          ]
        },
        {
          "output_type": "display_data",
          "data": {
            "text/plain": [
              "<Figure size 640x480 with 1 Axes>"
            ],
            "image/png": "[encoded data removed]"
          },
          "metadata": {}
        },
        {
          "output_type": "stream",
          "name": "stdout",
          "text": [
            "53/53 - 1s - loss: 0.4352 - accuracy: 0.8230 - sparse_categorical_crossentropy: 0.4197 - 505ms/epoch - 10ms/step\n",
            "Best model, accuracy: 82.30%\n"
          ]
        }
      ],
      "source": [
        "## Creating CNN\n",
        "\n",
        "print(\"Creating CNN architecture\\n\")\n",
        "\n",
        "# Convolutional and pooling layers\n",
        "input = tf.keras.Input(shape=(1, segment_size, num_input_channels))\n",
        "l_conv = tf.keras.layers.Conv1D(n_filters,filters_size,strides=1,padding='SAME',use_bias=True,activation='relu')(input)\n",
        "l_pool = tf.keras.layers.MaxPooling2D(pool_size=[1,4],strides=[1,4],padding='SAME')(l_conv)\n",
        "\n",
        "# Augmenting data with statistical features\n",
        "\n",
        "# Flattening and feature layers\n",
        "l_flat = tf.keras.layers.Flatten()(l_pool)\n",
        "l_feat = tf.keras.Input(shape=(num_features))\n",
        "\n",
        "# Hidden layer\n",
        "l_hidden = tf.keras.layers.Concatenate()([l_flat,l_feat])\n",
        "\n",
        "# Fully connected layer with dropout and regularizer\n",
        "l_dropout = tf.keras.layers.Dropout(dropout_rate)(l_hidden)\n",
        "reg = tf.keras.regularizers.L2(l2=l2_reg)\n",
        "l_dense = tf.keras.layers.Dense(n_hidden,activation='relu',use_bias=True,kernel_regularizer=reg)(l_dropout)\n",
        "\n",
        "# Prediction/Softmax layer\n",
        "l_predictions = tf.keras.layers.Dense(n_classes,activation='softmax')(l_dense)\n",
        "\n",
        "# Format data for training\n",
        "data_train_reformatted = np.reshape(data_train,newshape=(-1,1,128,6))\n",
        "data_val_reformatted = np.reshape(data_val,newshape=(-1,1,128,6))\n",
        "data_test_reformatted = np.reshape(data_test,newshape=(-1,1,128,6))\n",
        "\n",
        "labels_val_squeezed = np.argmax(labels_val,axis=1)\n",
        "labels_test_squeezed = np.argmax(labels_test,axis=1)\n",
        "labels_train_squeezed = np.argmax(labels_train,axis=1)\n",
        "\n",
        "# Compile model\n",
        "train_model = tf.keras.Model(inputs=[input,l_feat], outputs=l_predictions)\n",
        "train_model.compile(optimizer='adam',loss='sparse_categorical_crossentropy',metrics=['accuracy','sparse_categorical_crossentropy'])\n",
        "train_model.summary()\n",
        "\n",
        "# Define training callbacks\n",
        "earlyStopping = tf.keras.callbacks.EarlyStopping(monitor='val_loss', patience=15, verbose=0, mode='min')\n",
        "checkpoint = tf.keras.callbacks.ModelCheckpoint(\"har_best.keras\", monitor=\"val_loss\", save_best_only=True)\n",
        "reduce_lr_loss = tf.keras.callbacks.ReduceLROnPlateau(monitor='val_loss', factor=0.1, patience=7, verbose=1, min_delta=1e-4, mode='min')\n",
        "\n",
        "# Train model\n",
        "history = train_model.fit(\n",
        "    x=(data_train_reformatted,features),\n",
        "    y=labels_train_squeezed,\n",
        "    batch_size=batch_size,\n",
        "    epochs=num_training_iterations,\n",
        "    verbose=1,\n",
        "    validation_data=((data_val_reformatted,features_val),labels_val_squeezed),\n",
        "    validation_freq=1,\n",
        "    callbacks=[checkpoint,earlyStopping,reduce_lr_loss]\n",
        ")\n",
        "\n",
        "# Plot the training history\n",
        "loss = history.history['loss']\n",
        "val_loss = history.history['val_loss']\n",
        "val_accuracy = history.history['val_accuracy']\n",
        "\n",
        "epochs = range(1, len(loss) + 1)\n",
        "\n",
        "plt.plot(epochs, loss, 'bo', label='Training loss')\n",
        "plt.plot(epochs, val_loss, 'b', label='Validation loss')\n",
        "plt.plot(epochs,val_accuracy,'r', label='Validation Accuracy')\n",
        "plt.title('Training and validation loss')\n",
        "plt.legend()\n",
        "plt.show()\n",
        "\n",
        "# Load best model and check performance\n",
        "model = tf.keras.models.load_model('har_best.keras')\n",
        "metrics = model.evaluate(x=(data_test_reformatted,features_test), y=labels_test_squeezed, verbose=2)\n",
        "acc = metrics[1]\n",
        "print('Best model, accuracy: {:5.2f}%'.format(100 * acc))"
      ]
    },
    {
      "cell_type": "code",
      "execution_count": 7,
      "metadata": {
        "id": "S0UDrMjW6kvm"
      },
      "outputs": [],
      "source": [
        "# Generate representative dataset for integer quantisation\n",
        "def representative_data_gen():\n",
        "  for i in range(200):\n",
        "    input_data1 = np.float32(np.expand_dims(data_train_reformatted[i],axis=0))\n",
        "    input_data2 = np.float32(np.expand_dims(features[i],axis=0))\n",
        "    yield [input_data1, input_data2]"
      ]
    },
    {
      "cell_type": "code",
      "execution_count": 8,
      "metadata": {
        "colab": {
          "base_uri": "https://localhost:8080/"
        },
        "id": "siFc52PWXYuJ",
        "outputId": "0bde1b07-156c-46b1-e1ad-6c226a699400"
      },
      "outputs": [
        {
          "output_type": "stream",
          "name": "stderr",
          "text": [
            "INFO:tensorflow:Assets written to: /tmp/tmpy1xjj4dy/assets\n"
          ]
        }
      ],
      "source": [
        "# Convert keras model to unquantised (16-bit floating point) tflite file for comparison\n",
        "tflite_model_name = 'har_model_fp16'  # Will be given .tflite suffix\n",
        "converter = tf.lite.TFLiteConverter.from_keras_model(model)\n",
        "converter.optimizations = [tf.lite.Optimize.DEFAULT]\n",
        "tflite_model_fp16 = converter.convert()\n",
        "open(tflite_model_name + '.tflite', 'wb').write(tflite_model_fp16)\n",
        "with zipfile.ZipFile(name_fzip,'a') as myzip:\n",
        "  myzip.write(tflite_model_name+'.tflite')"
      ]
    },
    {
      "cell_type": "code",
      "execution_count": 9,
      "metadata": {
        "colab": {
          "base_uri": "https://localhost:8080/"
        },
        "id": "QFPeMIU-Pzfu",
        "outputId": "4aff9a71-ce5b-45fd-fde1-0c6d260687c5"
      },
      "outputs": [
        {
          "output_type": "stream",
          "name": "stderr",
          "text": [
            "INFO:tensorflow:Assets written to: /tmp/tmp3axhn_51/assets\n",
            "/usr/local/lib/python3.10/dist-packages/tensorflow/lite/python/convert.py:953: UserWarning: Statistics for quantized inputs were expected, but not specified; continuing anyway.\n",
            "  warnings.warn(\n"
          ]
        },
        {
          "output_type": "stream",
          "name": "stdout",
          "text": [
            "input:  <class 'numpy.uint8'>\n",
            "output:  <class 'numpy.uint8'>\n",
            "[{'name': 'serving_default_input_1:0', 'index': 0, 'shape': array([  1,   1, 128,   6], dtype=int32), 'shape_signature': array([ -1,   1, 128,   6], dtype=int32), 'dtype': <class 'numpy.uint8'>, 'quantization': (0.026062745600938797, 135), 'quantization_parameters': {'scales': array([0.02606275], dtype=float32), 'zero_points': array([135], dtype=int32), 'quantized_dimension': 0}, 'sparsity_parameters': {}}, {'name': 'serving_default_input_2:0', 'index': 1, 'shape': array([ 1, 40], dtype=int32), 'shape_signature': array([-1, 40], dtype=int32), 'dtype': <class 'numpy.uint8'>, 'quantization': (0.31901922821998596, 1), 'quantization_parameters': {'scales': array([0.31901923], dtype=float32), 'zero_points': array([1], dtype=int32), 'quantized_dimension': 0}, 'sparsity_parameters': {}}]\n"
          ]
        }
      ],
      "source": [
        "# Convert Keras model to a quantised (8-bit integer) tflite model\n",
        "tflite_model_name = 'har_model_ui8'  # Will be given .tflite suffix\n",
        "converter = tf.lite.TFLiteConverter.from_keras_model(model)\n",
        "converter.optimizations = [tf.lite.Optimize.DEFAULT]\n",
        "converter.representative_dataset = representative_data_gen\n",
        "converter.target_spec.supported_ops = [tf.lite.OpsSet.TFLITE_BUILTINS_INT8]\n",
        "converter.inference_input_type = tf.uint8\n",
        "converter.inference_output_type = tf.uint8\n",
        "tflite_model_ui8 = converter.convert()\n",
        "open(tflite_model_name + '.tflite', 'wb').write(tflite_model_ui8)\n",
        "with zipfile.ZipFile(name_fzip,'a') as myzip:\n",
        "  myzip.write(tflite_model_name+'.tflite')\n",
        "\n",
        "# Check quantised model input/output types\n",
        "interpreter = tf.lite.Interpreter(model_content=tflite_model_ui8)\n",
        "input_type = interpreter.get_input_details()[0]['dtype']\n",
        "print('input: ', input_type)\n",
        "output_type = interpreter.get_output_details()[0]['dtype']\n",
        "print('output: ', output_type)\n",
        "print(interpreter.get_input_details())"
      ]
    },
    {
      "cell_type": "code",
      "execution_count": 10,
      "metadata": {
        "colab": {
          "base_uri": "https://localhost:8080/"
        },
        "id": "n2j2VEnedXu3",
        "outputId": "dbd4d3ff-e1dd-4872-9616-da6b7c5ca15b"
      },
      "outputs": [
        {
          "output_type": "execute_result",
          "data": {
            "text/plain": [
              "8352"
            ]
          },
          "metadata": {},
          "execution_count": 10
        }
      ],
      "source": [
        "# Save models as files\n",
        "import pathlib\n",
        "\n",
        "tflite_models_dir = pathlib.Path(\"/tmp/mnist_tflite_models/\")\n",
        "tflite_models_dir.mkdir(exist_ok=True, parents=True)\n",
        "\n",
        "# Save the unquantized/float model:\n",
        "tflite_model_file = tflite_models_dir/\"har_model_fp16.tflite\"\n",
        "tflite_model_file.write_bytes(tflite_model_fp16)\n",
        "\n",
        "# Save the quantized model:\n",
        "tflite_model_quant_file = tflite_models_dir/\"har_model_ui8.tflite\"\n",
        "tflite_model_quant_file.write_bytes(tflite_model_ui8)"
      ]
    },
    {
      "cell_type": "code",
      "execution_count": 11,
      "metadata": {
        "id": "cnmD4BAob59a"
      },
      "outputs": [],
      "source": [
        "# Define necessary variables for test functions\n",
        "test_data_index = 1\n",
        "test_segments = np.float32(data_test_reformatted)\n",
        "test_feature_data = np.float32(features_test)\n",
        "test_labels = labels_test_squeezed"
      ]
    },
    {
      "cell_type": "code",
      "execution_count": 12,
      "metadata": {
        "id": "pJx2vZH8Y-o9"
      },
      "outputs": [],
      "source": [
        "# Helper function to run inference on a TFLite model\n",
        "def run_tflite_model(tflite_file, test_data_indices):\n",
        "  global test_segments\n",
        "  global test_feature_data\n",
        "\n",
        "  # Initialize the interpreter\n",
        "  interpreter = tf.lite.Interpreter(model_path=str(tflite_file))\n",
        "  interpreter.allocate_tensors()\n",
        "\n",
        "  input_details = interpreter.get_input_details()[0]\n",
        "  input2_details = interpreter.get_input_details()[1]\n",
        "  output_details = interpreter.get_output_details()[0]\n",
        "\n",
        "  predictions = np.zeros((len(test_data_indices),), dtype=int)\n",
        "  for i, test_data_index in enumerate(test_data_indices):\n",
        "    test_image = test_segments[test_data_index]\n",
        "    test_features = test_feature_data[test_data_index]\n",
        "\n",
        "    # Check if the input type is quantized, then rescale input data to uint8\n",
        "    if input_details['dtype'] == np.uint8:\n",
        "      input_scale, input_zero_point = input_details[\"quantization\"]\n",
        "      test_image = test_image / input_scale + input_zero_point\n",
        "      input_scale2, input_zero_point2 = input2_details[\"quantization\"]\n",
        "      test_features = test_features / input_scale2 + input_zero_point2\n",
        "\n",
        "    test_image = np.expand_dims(test_image, axis=0).astype(input_details[\"dtype\"])\n",
        "    test_features = np.expand_dims(test_features, axis=0).astype(input2_details[\"dtype\"])\n",
        "    interpreter.set_tensor(input_details[\"index\"], test_image)\n",
        "    interpreter.set_tensor(input2_details[\"index\"], test_features)\n",
        "    interpreter.invoke()\n",
        "    output = interpreter.get_tensor(output_details[\"index\"])[0]\n",
        "\n",
        "    predictions[i] = output.argmax()\n",
        "  return predictions"
      ]
    },
    {
      "cell_type": "code",
      "execution_count": 13,
      "metadata": {
        "id": "jtgI4n_ug7Ap"
      },
      "outputs": [],
      "source": [
        "# Helper function to evaluate a TFLite model on all segments\n",
        "def evaluate_model(tflite_file, model_type):\n",
        "  global test_segments\n",
        "  global test_labels\n",
        "\n",
        "  test_data_indices = range(test_segments.shape[0])\n",
        "  predictions = run_tflite_model(tflite_file, test_data_indices)\n",
        "  # print(predictions[370:390])\n",
        "\n",
        "  counter = 0\n",
        "  for i in range(len(test_segments)):\n",
        "    # Uncomment to print individual inference results to console\n",
        "    # print(str(i+1)+ \" | Match: \" + str(test_labels[i] == predictions[i]) + \" | actual: \" + str(test_labels[i]) + \" | predicted: \" + str(predictions[i]))\n",
        "    if test_labels[i] == predictions[i]:\n",
        "      counter += 1\n",
        "\n",
        "\n",
        "  accuracy = counter * 100 / len(test_segments)\n",
        "\n",
        "  print('%s model accuracy is %.4f%% (Number of test samples=%d)' % (\n",
        "      model_type, accuracy, len(test_segments)))"
      ]
    },
    {
      "cell_type": "code",
      "execution_count": 14,
      "metadata": {
        "id": "ZaoNEPDEcXK-",
        "colab": {
          "base_uri": "https://localhost:8080/"
        },
        "outputId": "20de29af-565d-43f7-cf1f-8b05a1a39e3d"
      },
      "outputs": [
        {
          "output_type": "stream",
          "name": "stdout",
          "text": [
            "Quantized model accuracy is 81.4749% (Number of test samples=1695)\n",
            "Float model accuracy is 82.3009% (Number of test samples=1695)\n"
          ]
        }
      ],
      "source": [
        "# Evaluate model accuracy\n",
        "samples_idx = np.random.randint(0,test_segments.shape[0],30)\n",
        "evaluate_model(tflite_model_quant_file, model_type=\"Quantized\")\n",
        "evaluate_model(tflite_model_file, model_type=\"Float\")"
      ]
    },
    {
      "cell_type": "code",
      "execution_count": 15,
      "metadata": {
        "id": "_1raziQq2xUM"
      },
      "outputs": [],
      "source": [
        "# Save one segment of quantised test data as c array for testing\n",
        "input1_details = interpreter.get_input_details()[0]\n",
        "input1_scale, input1_zero_point = input1_details[\"quantization\"]\n",
        "input2_details = interpreter.get_input_details()[1]\n",
        "input2_scale, input2_zero_point = input2_details[\"quantization\"]\n",
        "\n",
        "test_array_data = np.floor(test_segments[0][0] / input1_scale + input1_zero_point).astype(int)\n",
        "test_array_features = np.floor(features_test[0] / input2_scale + input2_zero_point).astype(int)\n",
        "\n",
        "data_filename = 'test_data'\n",
        "c_str = ''\n",
        "c_str += '#include \"' + data_filename + '.h\"\\n\\n'\n",
        "c_str += 'uint8_t test_input1[] = {\\n'\n",
        "\n",
        "# Add values of single test data segment\n",
        "for i,element in enumerate(test_array_data.flat):\n",
        "  if element < 0:\n",
        "    element = 0\n",
        "  elif element > 255:\n",
        "    element = 255\n",
        "  c_str += str(element)\n",
        "  if (i + 1) < len(test_array_data.flat):\n",
        "      c_str += ','\n",
        "  if (i + 1) % 12 == 0:\n",
        "      c_str += '\\n '\n",
        "\n",
        "\n",
        "c_str += '};\\n'\n",
        "c_str += 'const unsigned int test_input1_len = ' + str(len(test_segments[0][0].flatten()))\n",
        "c_str += ';\\n\\n'\n",
        "\n",
        "c_str += 'uint8_t test_input2[] = {\\n'\n",
        "\n",
        "# Add values of corresponding feature vector\n",
        "for i,element in enumerate(test_array_features.flatten()):\n",
        "  if element < 0:\n",
        "    element = 0\n",
        "  elif element > 255:\n",
        "    element = 255\n",
        "  c_str += str(element)\n",
        "  if (i + 1) < len(test_array_features.flatten()):\n",
        "      c_str += ','\n",
        "  if (i + 1) % 12 == 0:\n",
        "      c_str += '\\n '\n",
        "\n",
        "c_str += '};\\n'\n",
        "c_str += 'const unsigned int test_input2_len = ' + str(len(features_test[0].flatten()))\n",
        "c_str += ';\\n\\n'\n",
        "\n",
        "c_str += '// test_label = ' + str(labels_test_squeezed[0]) + ';\\n'\n",
        "\n",
        "with open(data_filename + '.cpp', 'w') as file:\n",
        "  file.write(c_str)\n",
        "with zipfile.ZipFile(name_fzip,'a') as myzip:\n",
        "  myzip.write(data_filename+'.cpp')"
      ]
    },
    {
      "cell_type": "code",
      "execution_count": 16,
      "metadata": {
        "id": "g6cq4k_cQBtc"
      },
      "outputs": [],
      "source": [
        "# Function: Convert model hex file to C array for MCU\n",
        "def hex_to_c_array(hex_data):\n",
        "  var_name = 'g_model'\n",
        "\n",
        "  c_str = ''\n",
        "\n",
        "  # Create header guard\n",
        "  c_str += '#include \"har_detection_model.h\"\\n\\n'\n",
        "\n",
        "\n",
        "  # Declare C variable\n",
        "  c_str += 'const unsigned char ' + var_name + '[] = {'\n",
        "  hex_array = []\n",
        "  for i, val in enumerate(hex_data) :\n",
        "\n",
        "    # Construct string from hex\n",
        "    hex_str = format(val, '#04x')\n",
        "\n",
        "    # Add formatting so each line stays within 80 characters\n",
        "    if (i + 1) < len(hex_data):\n",
        "      hex_str += ','\n",
        "    if (i + 1) % 12 == 0:\n",
        "      hex_str += '\\n '\n",
        "    hex_array.append(hex_str)\n",
        "\n",
        "  # Add closing brace\n",
        "  c_str += '\\n ' + format(' '.join(hex_array)) + '\\n};\\n\\n'\n",
        "\n",
        "    # Add array length at top of file\n",
        "  c_str += 'const unsigned int ' + var_name + '_len = ' + str(len(hex_data)) + ';\\n'\n",
        "\n",
        "  return c_str"
      ]
    },
    {
      "cell_type": "code",
      "execution_count": 17,
      "metadata": {
        "id": "WcpmrHn3QDMu"
      },
      "outputs": [],
      "source": [
        "# # Write TFLite model to a C source file\n",
        "c_model_name = 'har_detection_model'\n",
        "with open(c_model_name + '.cpp', 'w') as file:\n",
        "  file.write(hex_to_c_array(tflite_model_ui8))\n",
        "with zipfile.ZipFile(name_fzip,'a') as myzip:\n",
        "  myzip.write(c_model_name+'.cpp')\n",
        "\n",
        "# Alternative method\n",
        "# !xxd -i har_model.tflite > har_detection_model.cpp"
      ]
    }
  ],
  "metadata": {
    "colab": {
      "gpuType": "T4",
      "provenance": []
    },
    "kernelspec": {
      "display_name": "Python 3",
      "name": "python3"
    },
    "language_info": {
      "name": "python"
    },
    "accelerator": "GPU"
  },
  "nbformat": 4,
  "nbformat_minor": 0
}