{
  "nbformat": 4,
  "nbformat_minor": 0,
  "metadata": {
    "colab": {
      "provenance": [],
      "gpuType": "T4"
    },
    "kernelspec": {
      "name": "python3",
      "display_name": "Python 3"
    },
    "language_info": {
      "name": "python"
    },
    "accelerator": "GPU"
  },
  "cells": [
    {
      "cell_type": "code",
      "source": [
        "# Connect to Drive\n",
        "from google.colab import drive\n",
        "drive.mount('/content/drive')"
      ],
      "metadata": {
        "colab": {
          "base_uri": "https://localhost:8080/"
        },
        "id": "gIc0x7KJLGhY",
        "outputId": "dad5ff1f-d8df-4177-b119-14f849437b84"
      },
      "execution_count": null,
      "outputs": [
        {
          "output_type": "stream",
          "name": "stdout",
          "text": [
            "Drive already mounted at /content/drive; to attempt to forcibly remount, call drive.mount(\"/content/drive\", force_remount=True).\n"
          ]
        }
      ]
    },
    {
      "cell_type": "code",
      "source": [
        "# Imports, setup and parameters\n",
        "import numpy as np\n",
        "import math\n",
        "import zipfile\n",
        "import pandas as pd\n",
        "from sklearn.metrics import classification_report\n",
        "from sklearn.preprocessing import normalize\n",
        "import matplotlib.pyplot as plt\n",
        "import logging\n",
        "logging.getLogger(\"tensorflow\").setLevel(logging.DEBUG)\n",
        "import tensorflow as tf\n",
        "from tensorflow.keras import layers\n",
        "\n",
        "\n",
        "print(\"TensorFlow version:\", tf.__version__)\n",
        "\n",
        "tf.keras.backend.clear_session()\n",
        "\n",
        "## CNN parameters\n",
        "\n",
        "file_path = \"/content/drive/MyDrive/University/L3_Project/HAR/data_processing/uci_data\"\n",
        "\n",
        "segment_size = 128\n",
        "num_input_channels = 6\n",
        "\n",
        "num_training_iterations = 200\n",
        "batch_size = 200\n",
        "\n",
        "l2_reg = 5e-4\n",
        "learning_rate = 5e-4\n",
        "dropout_rate = 0.05\n",
        "\n",
        "n_filters = 8\n",
        "filters_size = 3\n",
        "n_hidden = 1024\n",
        "n_classes = 6\n",
        "id = 8; # Used to uniquely identify model\n",
        "\n",
        "# Generate name of ZIP file\n",
        "name_fzip = \"rb\"+str(id)+\"_\"+str(n_filters)+\"_\"+str(filters_size)+\"_\"+str(n_hidden)+\".zip\""
      ],
      "metadata": {
        "colab": {
          "base_uri": "https://localhost:8080/"
        },
        "id": "A9kMuVVsbiCd",
        "outputId": "a5fc9c99-4b2e-4aac-8c76-37426eb504cc"
      },
      "execution_count": null,
      "outputs": [
        {
          "output_type": "stream",
          "name": "stdout",
          "text": [
            "TensorFlow version: 2.15.0\n"
          ]
        }
      ]
    },
    {
      "cell_type": "code",
      "source": [
        "## Loading the dataset\n",
        "\n",
        "print('Loading UCI dataset...')\n",
        "\n",
        "# Reading training data\n",
        "\n",
        "# Modified paths for Drive\n",
        "fa = open(f\"{file_path}/all_data.csv\")\n",
        "data_train = np.loadtxt(fname = fa, delimiter = ',')\n",
        "fa.close()\n",
        "\n",
        "# Reading validation data\n",
        "\n",
        "fa = open(f\"{file_path}/all_data_val.csv\")\n",
        "data_val = np.loadtxt(fname = fa, delimiter = ',')\n",
        "fa.close()\n",
        "\n",
        "# Reading test data\n",
        "\n",
        "fa = open(f\"{file_path}/all_data_test.csv\")\n",
        "data_test = np.loadtxt(fname = fa, delimiter = ',')\n",
        "fa.close()\n",
        "\n",
        "# Reading labels\n",
        "#   Training labels\n",
        "fa = open(f\"{file_path}/answers.csv\")\n",
        "labels_train = np.loadtxt(fname = fa, delimiter = ',')\n",
        "fa.close()\n",
        "\n",
        "#   Validation labels\n",
        "fa = open(f\"{file_path}/answers_val.csv\")\n",
        "labels_val = np.loadtxt(fname = fa, delimiter = ',')\n",
        "fa.close()\n",
        "\n",
        "#   Test labels\n",
        "fa = open(f\"{file_path}/answers_test.csv\")\n",
        "labels_test = np.loadtxt(fname = fa, delimiter = ',')\n",
        "fa.close()\n",
        "\n",
        "train_size = data_train.shape[0]\n",
        "val_size = data_val.shape[0]\n",
        "test_size = data_test.shape[0]\n",
        "\n",
        "data_val = np.reshape(data_val, [data_val.shape[0], segment_size * num_input_channels])\n",
        "labels_val = np.reshape(labels_val, [labels_val.shape[0], n_classes])\n",
        "labels_val_max = np.expand_dims(np.argmax(labels_val,axis=1),axis=1)\n",
        "\n",
        "data_test = np.reshape(data_test, [data_test.shape[0], segment_size * num_input_channels])\n",
        "labels_test = np.reshape(labels_test, [labels_test.shape[0], n_classes])\n",
        "labels_test_max = np.expand_dims(np.argmax(labels_test,axis=1),axis=1)\n",
        "\n",
        "\n",
        "print(\"Dataset was uploaded\\n\")"
      ],
      "metadata": {
        "colab": {
          "base_uri": "https://localhost:8080/"
        },
        "id": "eOGRQqsgBatZ",
        "outputId": "1f7b8fba-2f92-4817-b66c-41455d741cdb"
      },
      "execution_count": null,
      "outputs": [
        {
          "output_type": "stream",
          "name": "stdout",
          "text": [
            "Loading UCI dataset...\n",
            "Dataset was uploaded\n",
            "\n"
          ]
        }
      ]
    },
    {
      "cell_type": "code",
      "source": [
        "# Create file with data segments and corresponding features for transmission to Nano\n",
        "data_combined = np.concatenate((data_test,labels_test_max),axis=1)\n",
        "\n",
        "# Specifying the file path\n",
        "file_path = 'data_combined.csv'\n",
        "\n",
        "# Writing the array to the CSV file\n",
        "np.savetxt(file_path, data_combined, delimiter=',', fmt='%3.4g')\n",
        "\n",
        "with zipfile.ZipFile(name_fzip,'a') as myzip:\n",
        "  myzip.write(file_path)\n",
        "\n",
        "print(\"Nano transmission file generated\")"
      ],
      "metadata": {
        "id": "b9dam1hv12Oh",
        "colab": {
          "base_uri": "https://localhost:8080/"
        },
        "outputId": "c320bacf-1a58-426b-8362-7e689fac68e1"
      },
      "execution_count": null,
      "outputs": [
        {
          "output_type": "stream",
          "name": "stdout",
          "text": [
            "Nano transmission file generated\n"
          ]
        }
      ]
    },
    {
      "cell_type": "code",
      "execution_count": null,
      "metadata": {
        "id": "6Oucfbh5KpgW",
        "colab": {
          "base_uri": "https://localhost:8080/",
          "height": 1000
        },
        "outputId": "5d9bca0b-4e18-4bbb-cc92-6010d21a144e"
      },
      "outputs": [
        {
          "output_type": "stream",
          "name": "stdout",
          "text": [
            "Creating CNN architecture\n",
            "\n",
            "Model: \"model\"\n",
            "_________________________________________________________________\n",
            " Layer (type)                Output Shape              Param #   \n",
            "=================================================================\n",
            " input_1 (InputLayer)        [(None, 1, 128, 6)]       0         \n",
            "                                                                 \n",
            " conv1d (Conv1D)             (None, 1, 128, 8)         152       \n",
            "                                                                 \n",
            " max_pooling2d (MaxPooling2  (None, 1, 32, 8)          0         \n",
            " D)                                                              \n",
            "                                                                 \n",
            " flatten (Flatten)           (None, 256)               0         \n",
            "                                                                 \n",
            " dropout (Dropout)           (None, 256)               0         \n",
            "                                                                 \n",
            " dense (Dense)               (None, 1024)              263168    \n",
            "                                                                 \n",
            " dense_1 (Dense)             (None, 6)                 6150      \n",
            "                                                                 \n",
            "=================================================================\n",
            "Total params: 269470 (1.03 MB)\n",
            "Trainable params: 269470 (1.03 MB)\n",
            "Non-trainable params: 0 (0.00 Byte)\n",
            "_________________________________________________________________\n",
            "Epoch 1/200\n",
            "38/38 [==============================] - 11s 36ms/step - loss: 0.8271 - accuracy: 0.7967 - sparse_categorical_crossentropy: 0.6389 - val_loss: 0.7125 - val_accuracy: 0.7535 - val_sparse_categorical_crossentropy: 0.5406 - lr: 0.0010\n",
            "Epoch 2/200\n",
            "38/38 [==============================] - 0s 11ms/step - loss: 0.4475 - accuracy: 0.8827 - sparse_categorical_crossentropy: 0.2872 - val_loss: 0.6675 - val_accuracy: 0.8251 - val_sparse_categorical_crossentropy: 0.5182 - lr: 0.0010\n",
            "Epoch 3/200\n",
            "38/38 [==============================] - 0s 11ms/step - loss: 0.3874 - accuracy: 0.9074 - sparse_categorical_crossentropy: 0.2450 - val_loss: 0.5959 - val_accuracy: 0.8313 - val_sparse_categorical_crossentropy: 0.4612 - lr: 0.0010\n",
            "Epoch 4/200\n",
            "38/38 [==============================] - 0s 12ms/step - loss: 0.3358 - accuracy: 0.9216 - sparse_categorical_crossentropy: 0.2075 - val_loss: 0.5695 - val_accuracy: 0.8359 - val_sparse_categorical_crossentropy: 0.4479 - lr: 0.0010\n",
            "Epoch 5/200\n",
            "38/38 [==============================] - 0s 10ms/step - loss: 0.3272 - accuracy: 0.9180 - sparse_categorical_crossentropy: 0.2094 - val_loss: 0.5149 - val_accuracy: 0.8536 - val_sparse_categorical_crossentropy: 0.4019 - lr: 0.0010\n",
            "Epoch 6/200\n",
            "38/38 [==============================] - 0s 9ms/step - loss: 0.2932 - accuracy: 0.9276 - sparse_categorical_crossentropy: 0.1844 - val_loss: 0.5264 - val_accuracy: 0.8405 - val_sparse_categorical_crossentropy: 0.4222 - lr: 0.0010\n",
            "Epoch 7/200\n",
            "38/38 [==============================] - 0s 12ms/step - loss: 0.2775 - accuracy: 0.9342 - sparse_categorical_crossentropy: 0.1769 - val_loss: 0.4796 - val_accuracy: 0.8498 - val_sparse_categorical_crossentropy: 0.3830 - lr: 0.0010\n",
            "Epoch 8/200\n",
            "38/38 [==============================] - 0s 13ms/step - loss: 0.2499 - accuracy: 0.9405 - sparse_categorical_crossentropy: 0.1567 - val_loss: 0.4792 - val_accuracy: 0.8505 - val_sparse_categorical_crossentropy: 0.3897 - lr: 0.0010\n",
            "Epoch 9/200\n",
            "38/38 [==============================] - 0s 9ms/step - loss: 0.2398 - accuracy: 0.9423 - sparse_categorical_crossentropy: 0.1532 - val_loss: 0.5517 - val_accuracy: 0.8359 - val_sparse_categorical_crossentropy: 0.4680 - lr: 0.0010\n",
            "Epoch 10/200\n",
            "38/38 [==============================] - 0s 11ms/step - loss: 0.2675 - accuracy: 0.9301 - sparse_categorical_crossentropy: 0.1843 - val_loss: 0.5016 - val_accuracy: 0.8498 - val_sparse_categorical_crossentropy: 0.4197 - lr: 0.0010\n",
            "Epoch 11/200\n",
            "38/38 [==============================] - 1s 15ms/step - loss: 0.2380 - accuracy: 0.9364 - sparse_categorical_crossentropy: 0.1578 - val_loss: 0.4396 - val_accuracy: 0.8590 - val_sparse_categorical_crossentropy: 0.3614 - lr: 0.0010\n",
            "Epoch 12/200\n",
            "38/38 [==============================] - 0s 9ms/step - loss: 0.2119 - accuracy: 0.9464 - sparse_categorical_crossentropy: 0.1360 - val_loss: 0.4407 - val_accuracy: 0.8667 - val_sparse_categorical_crossentropy: 0.3672 - lr: 0.0010\n",
            "Epoch 13/200\n",
            "38/38 [==============================] - 0s 13ms/step - loss: 0.2046 - accuracy: 0.9487 - sparse_categorical_crossentropy: 0.1330 - val_loss: 0.4129 - val_accuracy: 0.8844 - val_sparse_categorical_crossentropy: 0.3433 - lr: 0.0010\n",
            "Epoch 14/200\n",
            "38/38 [==============================] - 0s 7ms/step - loss: 0.1936 - accuracy: 0.9537 - sparse_categorical_crossentropy: 0.1257 - val_loss: 0.3911 - val_accuracy: 0.8767 - val_sparse_categorical_crossentropy: 0.3251 - lr: 0.0010\n",
            "Epoch 15/200\n",
            "38/38 [==============================] - 0s 5ms/step - loss: 0.1806 - accuracy: 0.9546 - sparse_categorical_crossentropy: 0.1161 - val_loss: 0.3921 - val_accuracy: 0.8698 - val_sparse_categorical_crossentropy: 0.3293 - lr: 0.0010\n",
            "Epoch 16/200\n",
            "38/38 [==============================] - 0s 6ms/step - loss: 0.1800 - accuracy: 0.9526 - sparse_categorical_crossentropy: 0.1186 - val_loss: 0.3901 - val_accuracy: 0.8767 - val_sparse_categorical_crossentropy: 0.3301 - lr: 0.0010\n",
            "Epoch 17/200\n",
            "38/38 [==============================] - 0s 6ms/step - loss: 0.1699 - accuracy: 0.9591 - sparse_categorical_crossentropy: 0.1114 - val_loss: 0.3785 - val_accuracy: 0.8683 - val_sparse_categorical_crossentropy: 0.3215 - lr: 0.0010\n",
            "Epoch 18/200\n",
            "38/38 [==============================] - 0s 6ms/step - loss: 0.1719 - accuracy: 0.9548 - sparse_categorical_crossentropy: 0.1155 - val_loss: 0.3777 - val_accuracy: 0.8852 - val_sparse_categorical_crossentropy: 0.3220 - lr: 0.0010\n",
            "Epoch 19/200\n",
            "38/38 [==============================] - 0s 6ms/step - loss: 0.1605 - accuracy: 0.9585 - sparse_categorical_crossentropy: 0.1059 - val_loss: 0.3691 - val_accuracy: 0.8921 - val_sparse_categorical_crossentropy: 0.3157 - lr: 0.0010\n",
            "Epoch 20/200\n",
            "38/38 [==============================] - 0s 5ms/step - loss: 0.1526 - accuracy: 0.9622 - sparse_categorical_crossentropy: 0.1002 - val_loss: 0.3745 - val_accuracy: 0.8852 - val_sparse_categorical_crossentropy: 0.3233 - lr: 0.0010\n",
            "Epoch 21/200\n",
            "38/38 [==============================] - 0s 5ms/step - loss: 0.1518 - accuracy: 0.9602 - sparse_categorical_crossentropy: 0.1013 - val_loss: 0.4506 - val_accuracy: 0.8567 - val_sparse_categorical_crossentropy: 0.4011 - lr: 0.0010\n",
            "Epoch 22/200\n",
            "38/38 [==============================] - 0s 6ms/step - loss: 0.1520 - accuracy: 0.9598 - sparse_categorical_crossentropy: 0.1030 - val_loss: 0.4362 - val_accuracy: 0.8544 - val_sparse_categorical_crossentropy: 0.3878 - lr: 0.0010\n",
            "Epoch 23/200\n",
            "38/38 [==============================] - 0s 5ms/step - loss: 0.1510 - accuracy: 0.9580 - sparse_categorical_crossentropy: 0.1030 - val_loss: 0.3912 - val_accuracy: 0.8952 - val_sparse_categorical_crossentropy: 0.3438 - lr: 0.0010\n",
            "Epoch 24/200\n",
            "38/38 [==============================] - 0s 5ms/step - loss: 0.1434 - accuracy: 0.9592 - sparse_categorical_crossentropy: 0.0968 - val_loss: 0.3779 - val_accuracy: 0.8906 - val_sparse_categorical_crossentropy: 0.3324 - lr: 0.0010\n",
            "Epoch 25/200\n",
            "38/38 [==============================] - 0s 5ms/step - loss: 0.1366 - accuracy: 0.9635 - sparse_categorical_crossentropy: 0.0918 - val_loss: 0.4178 - val_accuracy: 0.8729 - val_sparse_categorical_crossentropy: 0.3738 - lr: 0.0010\n",
            "Epoch 26/200\n",
            "38/38 [==============================] - 0s 6ms/step - loss: 0.1492 - accuracy: 0.9580 - sparse_categorical_crossentropy: 0.1054 - val_loss: 0.3644 - val_accuracy: 0.8898 - val_sparse_categorical_crossentropy: 0.3210 - lr: 0.0010\n",
            "Epoch 27/200\n",
            "38/38 [==============================] - 0s 5ms/step - loss: 0.1427 - accuracy: 0.9604 - sparse_categorical_crossentropy: 0.0997 - val_loss: 0.4893 - val_accuracy: 0.8559 - val_sparse_categorical_crossentropy: 0.4469 - lr: 0.0010\n",
            "Epoch 28/200\n",
            "38/38 [==============================] - 0s 5ms/step - loss: 0.1517 - accuracy: 0.9561 - sparse_categorical_crossentropy: 0.1079 - val_loss: 0.4109 - val_accuracy: 0.8921 - val_sparse_categorical_crossentropy: 0.3661 - lr: 0.0010\n",
            "Epoch 29/200\n",
            "38/38 [==============================] - 0s 7ms/step - loss: 0.1350 - accuracy: 0.9633 - sparse_categorical_crossentropy: 0.0909 - val_loss: 0.3688 - val_accuracy: 0.8975 - val_sparse_categorical_crossentropy: 0.3255 - lr: 0.0010\n",
            "Epoch 30/200\n",
            "38/38 [==============================] - 0s 8ms/step - loss: 0.1305 - accuracy: 0.9650 - sparse_categorical_crossentropy: 0.0878 - val_loss: 0.4916 - val_accuracy: 0.8505 - val_sparse_categorical_crossentropy: 0.4497 - lr: 0.0010\n",
            "Epoch 31/200\n",
            "38/38 [==============================] - 0s 7ms/step - loss: 0.1520 - accuracy: 0.9550 - sparse_categorical_crossentropy: 0.1102 - val_loss: 0.3707 - val_accuracy: 0.9045 - val_sparse_categorical_crossentropy: 0.3295 - lr: 0.0010\n",
            "Epoch 32/200\n",
            "38/38 [==============================] - 0s 7ms/step - loss: 0.1269 - accuracy: 0.9658 - sparse_categorical_crossentropy: 0.0861 - val_loss: 0.4549 - val_accuracy: 0.8860 - val_sparse_categorical_crossentropy: 0.4144 - lr: 0.0010\n",
            "Epoch 33/200\n",
            "33/38 [=========================>....] - ETA: 0s - loss: 0.1231 - accuracy: 0.9688 - sparse_categorical_crossentropy: 0.0833\n",
            "Epoch 33: ReduceLROnPlateau reducing learning rate to 0.00010000000474974513.\n",
            "38/38 [==============================] - 0s 7ms/step - loss: 0.1209 - accuracy: 0.9696 - sparse_categorical_crossentropy: 0.0812 - val_loss: 0.3840 - val_accuracy: 0.9029 - val_sparse_categorical_crossentropy: 0.3450 - lr: 0.0010\n",
            "Epoch 34/200\n",
            "38/38 [==============================] - 0s 7ms/step - loss: 0.1106 - accuracy: 0.9712 - sparse_categorical_crossentropy: 0.0716 - val_loss: 0.3769 - val_accuracy: 0.9022 - val_sparse_categorical_crossentropy: 0.3380 - lr: 1.0000e-04\n",
            "Epoch 35/200\n",
            "38/38 [==============================] - 0s 8ms/step - loss: 0.1084 - accuracy: 0.9703 - sparse_categorical_crossentropy: 0.0696 - val_loss: 0.3798 - val_accuracy: 0.8991 - val_sparse_categorical_crossentropy: 0.3411 - lr: 1.0000e-04\n",
            "Epoch 36/200\n",
            "38/38 [==============================] - 0s 8ms/step - loss: 0.1080 - accuracy: 0.9741 - sparse_categorical_crossentropy: 0.0694 - val_loss: 0.3778 - val_accuracy: 0.9022 - val_sparse_categorical_crossentropy: 0.3394 - lr: 1.0000e-04\n",
            "Epoch 37/200\n",
            "38/38 [==============================] - 0s 8ms/step - loss: 0.1082 - accuracy: 0.9729 - sparse_categorical_crossentropy: 0.0698 - val_loss: 0.3769 - val_accuracy: 0.8983 - val_sparse_categorical_crossentropy: 0.3386 - lr: 1.0000e-04\n",
            "Epoch 38/200\n",
            "38/38 [==============================] - 0s 10ms/step - loss: 0.1106 - accuracy: 0.9708 - sparse_categorical_crossentropy: 0.0724 - val_loss: 0.3637 - val_accuracy: 0.8998 - val_sparse_categorical_crossentropy: 0.3256 - lr: 1.0000e-04\n",
            "Epoch 39/200\n",
            "38/38 [==============================] - 0s 7ms/step - loss: 0.1070 - accuracy: 0.9734 - sparse_categorical_crossentropy: 0.0690 - val_loss: 0.3653 - val_accuracy: 0.9052 - val_sparse_categorical_crossentropy: 0.3274 - lr: 1.0000e-04\n",
            "Epoch 40/200\n",
            "38/38 [==============================] - 0s 7ms/step - loss: 0.1062 - accuracy: 0.9719 - sparse_categorical_crossentropy: 0.0684 - val_loss: 0.3823 - val_accuracy: 0.9014 - val_sparse_categorical_crossentropy: 0.3446 - lr: 1.0000e-04\n",
            "Epoch 41/200\n",
            "38/38 [==============================] - 0s 5ms/step - loss: 0.1081 - accuracy: 0.9716 - sparse_categorical_crossentropy: 0.0705 - val_loss: 0.3652 - val_accuracy: 0.9022 - val_sparse_categorical_crossentropy: 0.3277 - lr: 1.0000e-04\n",
            "Epoch 42/200\n",
            "38/38 [==============================] - 0s 6ms/step - loss: 0.1072 - accuracy: 0.9734 - sparse_categorical_crossentropy: 0.0698 - val_loss: 0.3704 - val_accuracy: 0.8991 - val_sparse_categorical_crossentropy: 0.3331 - lr: 1.0000e-04\n",
            "Epoch 43/200\n",
            "38/38 [==============================] - 0s 5ms/step - loss: 0.1073 - accuracy: 0.9726 - sparse_categorical_crossentropy: 0.0701 - val_loss: 0.3713 - val_accuracy: 0.8998 - val_sparse_categorical_crossentropy: 0.3342 - lr: 1.0000e-04\n",
            "Epoch 44/200\n",
            "38/38 [==============================] - 0s 5ms/step - loss: 0.1058 - accuracy: 0.9741 - sparse_categorical_crossentropy: 0.0687 - val_loss: 0.3726 - val_accuracy: 0.8983 - val_sparse_categorical_crossentropy: 0.3357 - lr: 1.0000e-04\n",
            "Epoch 45/200\n",
            "29/38 [=====================>........] - ETA: 0s - loss: 0.1101 - accuracy: 0.9717 - sparse_categorical_crossentropy: 0.0733\n",
            "Epoch 45: ReduceLROnPlateau reducing learning rate to 1.0000000474974514e-05.\n",
            "38/38 [==============================] - 0s 5ms/step - loss: 0.1066 - accuracy: 0.9733 - sparse_categorical_crossentropy: 0.0698 - val_loss: 0.3806 - val_accuracy: 0.8983 - val_sparse_categorical_crossentropy: 0.3439 - lr: 1.0000e-04\n",
            "Epoch 46/200\n",
            "38/38 [==============================] - 0s 5ms/step - loss: 0.1039 - accuracy: 0.9735 - sparse_categorical_crossentropy: 0.0672 - val_loss: 0.3755 - val_accuracy: 0.9014 - val_sparse_categorical_crossentropy: 0.3388 - lr: 1.0000e-05\n",
            "Epoch 47/200\n",
            "38/38 [==============================] - 0s 5ms/step - loss: 0.1047 - accuracy: 0.9722 - sparse_categorical_crossentropy: 0.0680 - val_loss: 0.3719 - val_accuracy: 0.9060 - val_sparse_categorical_crossentropy: 0.3353 - lr: 1.0000e-05\n",
            "Epoch 48/200\n",
            "38/38 [==============================] - 0s 5ms/step - loss: 0.1049 - accuracy: 0.9745 - sparse_categorical_crossentropy: 0.0683 - val_loss: 0.3700 - val_accuracy: 0.9052 - val_sparse_categorical_crossentropy: 0.3334 - lr: 1.0000e-05\n",
            "Epoch 49/200\n",
            "38/38 [==============================] - 0s 5ms/step - loss: 0.1044 - accuracy: 0.9720 - sparse_categorical_crossentropy: 0.0678 - val_loss: 0.3701 - val_accuracy: 0.9037 - val_sparse_categorical_crossentropy: 0.3335 - lr: 1.0000e-05\n",
            "Epoch 50/200\n",
            "38/38 [==============================] - 0s 5ms/step - loss: 0.1047 - accuracy: 0.9730 - sparse_categorical_crossentropy: 0.0681 - val_loss: 0.3678 - val_accuracy: 0.9029 - val_sparse_categorical_crossentropy: 0.3312 - lr: 1.0000e-05\n",
            "Epoch 51/200\n",
            "38/38 [==============================] - 0s 5ms/step - loss: 0.1040 - accuracy: 0.9731 - sparse_categorical_crossentropy: 0.0674 - val_loss: 0.3717 - val_accuracy: 0.9045 - val_sparse_categorical_crossentropy: 0.3352 - lr: 1.0000e-05\n",
            "Epoch 52/200\n",
            "27/38 [====================>.........] - ETA: 0s - loss: 0.1100 - accuracy: 0.9706 - sparse_categorical_crossentropy: 0.0734\n",
            "Epoch 52: ReduceLROnPlateau reducing learning rate to 1.0000000656873453e-06.\n",
            "38/38 [==============================] - 0s 5ms/step - loss: 0.1052 - accuracy: 0.9730 - sparse_categorical_crossentropy: 0.0686 - val_loss: 0.3725 - val_accuracy: 0.9045 - val_sparse_categorical_crossentropy: 0.3360 - lr: 1.0000e-05\n",
            "Epoch 53/200\n",
            "38/38 [==============================] - 0s 5ms/step - loss: 0.1048 - accuracy: 0.9727 - sparse_categorical_crossentropy: 0.0682 - val_loss: 0.3725 - val_accuracy: 0.9052 - val_sparse_categorical_crossentropy: 0.3359 - lr: 1.0000e-06\n"
          ]
        },
        {
          "output_type": "display_data",
          "data": {
            "text/plain": [
              "<Figure size 640x480 with 1 Axes>"
            ],
            "image/png": "[encoded data removed]"
          },
          "metadata": {}
        },
        {
          "output_type": "stream",
          "name": "stdout",
          "text": [
            "53/53 - 0s - loss: 0.2353 - accuracy: 0.9327 - sparse_categorical_crossentropy: 0.1972 - 488ms/epoch - 9ms/step\n",
            "Best model, accuracy: 93.27%\n"
          ]
        }
      ],
      "source": [
        "## Create CNN\n",
        "\n",
        "print(\"Creating CNN architecture\\n\")\n",
        "\n",
        "# Convolutional and pooling layers\n",
        "\n",
        "input = tf.keras.Input(shape=(1, segment_size, num_input_channels),dtype=np.float32)\n",
        "l_conv = tf.keras.layers.Conv1D(n_filters,filters_size,strides=1,padding='SAME',use_bias=True,activation='relu')(input)\n",
        "l_pool = tf.keras.layers.MaxPooling2D(pool_size=[1,4],strides=[1,4],padding='SAME')(l_conv)\n",
        "\n",
        "# Flattening layers\n",
        "l_flat = tf.keras.layers.Flatten()(l_pool)\n",
        "\n",
        "# Fully connected layer with dropout and regularizer\n",
        "l_dropout = tf.keras.layers.Dropout(dropout_rate)(l_flat) # Adjustable dropout?\n",
        "reg = tf.keras.regularizers.L2(l2=l2_reg)\n",
        "l_dense = tf.keras.layers.Dense(n_hidden,activation='relu',use_bias=True,kernel_regularizer=reg)(l_dropout)\n",
        "\n",
        "# Prediction/Softmax layer\n",
        "l_predictions = tf.keras.layers.Dense(n_classes,activation='softmax')(l_dense)\n",
        "\n",
        "# Format data for training\n",
        "data_train_reformatted = np.reshape(data_train,newshape=(-1,1,128,6))\n",
        "data_val_reformatted = np.reshape(data_val,newshape=(-1,1,128,6))\n",
        "data_test_reformatted = np.reshape(data_test,newshape=(-1,1,128,6))\n",
        "\n",
        "labels_test_squeezed = np.argmax(labels_test,axis=1)\n",
        "labels_train_squeezed = np.argmax(labels_train,axis=1)\n",
        "labels_val_squeezed = np.argmax(labels_val,axis=1)\n",
        "\n",
        "# Compile model\n",
        "train_model = tf.keras.Model(inputs=input, outputs=l_predictions)\n",
        "train_model.compile(optimizer='adam',loss='sparse_categorical_crossentropy',metrics=['accuracy','sparse_categorical_crossentropy'])\n",
        "train_model.summary()\n",
        "\n",
        "# Define training callbacks\n",
        "earlyStopping = tf.keras.callbacks.EarlyStopping(monitor='val_loss', patience=15, verbose=0, mode='min')\n",
        "checkpoint = tf.keras.callbacks.ModelCheckpoint(\"har_best.keras\", monitor=\"val_loss\", save_best_only=True)\n",
        "reduce_lr_loss = tf.keras.callbacks.ReduceLROnPlateau(monitor='val_loss', factor=0.1, patience=7, verbose=1, min_delta=1e-4, mode='min')\n",
        "\n",
        "\n",
        "# Train model\n",
        "history = train_model.fit(\n",
        "    x=data_train_reformatted,\n",
        "    y=labels_train_squeezed,\n",
        "    batch_size=batch_size,\n",
        "    epochs=num_training_iterations,\n",
        "    verbose=1,\n",
        "    validation_data=(data_val_reformatted,labels_val_squeezed),\n",
        "    validation_freq=1,\n",
        "    callbacks=[checkpoint,earlyStopping,reduce_lr_loss]\n",
        ")\n",
        "\n",
        "# Plot the training history\n",
        "loss = history.history['loss']\n",
        "val_loss = history.history['val_loss']\n",
        "val_accuracy = history.history['val_accuracy']\n",
        "\n",
        "epochs = range(1, len(loss) + 1)\n",
        "\n",
        "plt.plot(epochs, loss, 'bo', label='Training loss')\n",
        "plt.plot(epochs, val_loss, 'b', label='Validation loss')\n",
        "plt.plot(epochs,val_accuracy,'r', label='Validation Accuracy')\n",
        "plt.title('Training and validation loss')\n",
        "plt.legend()\n",
        "plt.show()\n",
        "\n",
        "# Load best model and check performance\n",
        "model = tf.keras.models.load_model('har_best.keras')\n",
        "metrics = model.evaluate(x=data_test_reformatted, y=labels_test_squeezed, verbose=2)\n",
        "acc = metrics[1]\n",
        "print('Best model, accuracy: {:5.2f}%'.format(100 * acc))\n"
      ]
    },
    {
      "cell_type": "code",
      "source": [
        "# Generate representative dataset required for integer quantisation\n",
        "def representative_data_gen():\n",
        "  # random_indices = np.random.randint(0,data_train_reformatted.shape[0],size=500)\n",
        "  for i in range(200):\n",
        "    input_data1 = input_data = np.float32(np.expand_dims(data_train_reformatted[i],axis=0))\n",
        "    yield [input_data1]"
      ],
      "metadata": {
        "id": "S0UDrMjW6kvm"
      },
      "execution_count": null,
      "outputs": []
    },
    {
      "cell_type": "code",
      "source": [
        "# Convert keras model to unquantised (float16) tflite file for comparison\n",
        "tflite_model_name = 'har_fp16'  # Will be given .tflite suffix\n",
        "converter = tf.lite.TFLiteConverter.from_keras_model(model)\n",
        "converter.optimizations = [tf.lite.Optimize.DEFAULT]\n",
        "tflite_model_fp16 = converter.convert()\n",
        "open(tflite_model_name + '.tflite', 'wb').write(tflite_model_fp16)\n",
        "with zipfile.ZipFile(name_fzip,'a') as myzip:\n",
        "  myzip.write(tflite_model_name+'.tflite')"
      ],
      "metadata": {
        "id": "siFc52PWXYuJ",
        "colab": {
          "base_uri": "https://localhost:8080/"
        },
        "outputId": "4367751d-d141-462f-bc92-2effeeaff442"
      },
      "execution_count": null,
      "outputs": [
        {
          "output_type": "stream",
          "name": "stderr",
          "text": [
            "INFO:tensorflow:Assets written to: /tmp/tmpsz_685le/assets\n"
          ]
        }
      ]
    },
    {
      "cell_type": "code",
      "source": [
        "# Convert Keras model to a quantised tflite model\n",
        "tflite_model_name = 'har_model_ui8'  # Will be given .tflite suffix\n",
        "converter = tf.lite.TFLiteConverter.from_keras_model(model)\n",
        "converter.optimizations = [tf.lite.Optimize.DEFAULT]\n",
        "converter.representative_dataset = representative_data_gen\n",
        "converter.target_spec.supported_ops = [tf.lite.OpsSet.TFLITE_BUILTINS_INT8]\n",
        "converter.inference_input_type = tf.uint8\n",
        "converter.inference_output_type = tf.uint8\n",
        "tflite_model_ui8 = converter.convert()\n",
        "open(tflite_model_name + '.tflite', 'wb').write(tflite_model_ui8)\n",
        "with zipfile.ZipFile(name_fzip,'a') as myzip:\n",
        "  myzip.write(tflite_model_name+'.tflite')\n",
        "\n",
        "# Check model input/output types\n",
        "interpreter = tf.lite.Interpreter(model_content=tflite_model_ui8)\n",
        "input_type = interpreter.get_input_details()[0]['dtype']\n",
        "print('input: ', input_type)\n",
        "output_type = interpreter.get_output_details()[0]['dtype']\n",
        "print('output: ', output_type)\n",
        "print(interpreter.get_input_details())"
      ],
      "metadata": {
        "id": "QFPeMIU-Pzfu",
        "colab": {
          "base_uri": "https://localhost:8080/"
        },
        "outputId": "6acc2fdc-19c1-4437-9317-b7cb6095d836"
      },
      "execution_count": null,
      "outputs": [
        {
          "output_type": "stream",
          "name": "stderr",
          "text": [
            "INFO:tensorflow:Assets written to: /tmp/tmpuqfjicm_/assets\n",
            "/usr/local/lib/python3.10/dist-packages/tensorflow/lite/python/convert.py:953: UserWarning: Statistics for quantized inputs were expected, but not specified; continuing anyway.\n",
            "  warnings.warn(\n"
          ]
        },
        {
          "output_type": "stream",
          "name": "stdout",
          "text": [
            "input:  <class 'numpy.uint8'>\n",
            "output:  <class 'numpy.uint8'>\n",
            "[{'name': 'serving_default_input_1:0', 'index': 0, 'shape': array([  1,   1, 128,   6], dtype=int32), 'shape_signature': array([ -1,   1, 128,   6], dtype=int32), 'dtype': <class 'numpy.uint8'>, 'quantization': (0.026062745600938797, 135), 'quantization_parameters': {'scales': array([0.02606275], dtype=float32), 'zero_points': array([135], dtype=int32), 'quantized_dimension': 0}, 'sparsity_parameters': {}}]\n"
          ]
        }
      ]
    },
    {
      "cell_type": "code",
      "source": [
        "# Save models as files\n",
        "import pathlib\n",
        "\n",
        "tflite_models_dir = pathlib.Path(\"/tmp/mnist_tflite_models/\")\n",
        "tflite_models_dir.mkdir(exist_ok=True, parents=True)\n",
        "\n",
        "# Save the unquantized/float model:\n",
        "tflite_model_file = tflite_models_dir/\"har_model_fp16.tflite\"\n",
        "tflite_model_file.write_bytes(tflite_model_fp16)\n",
        "\n",
        "# Save the quantized model:\n",
        "tflite_model_quant_file = tflite_models_dir/\"har_model_ui8.tflite\"\n",
        "tflite_model_quant_file.write_bytes(tflite_model_ui8)"
      ],
      "metadata": {
        "id": "n2j2VEnedXu3",
        "colab": {
          "base_uri": "https://localhost:8080/"
        },
        "outputId": "81afdcf4-56e0-4365-e9e9-2c41d6bcb182"
      },
      "execution_count": null,
      "outputs": [
        {
          "output_type": "execute_result",
          "data": {
            "text/plain": [
              "279600"
            ]
          },
          "metadata": {},
          "execution_count": 13
        }
      ]
    },
    {
      "cell_type": "code",
      "source": [
        "# Define necessary variables for evaluation functions\n",
        "test_data_index = 1\n",
        "test_segments = np.float32(data_test_reformatted)\n",
        "test_labels = labels_test_squeezed"
      ],
      "metadata": {
        "id": "JRhTvg_JmyM5"
      },
      "execution_count": null,
      "outputs": []
    },
    {
      "cell_type": "code",
      "source": [
        "# Helper function to run inference on a TFLite model\n",
        "def run_tflite_model(tflite_file, test_data_indices):\n",
        "  global test_segments\n",
        "  global test_feature_data\n",
        "\n",
        "  # Initialize the interpreter\n",
        "  interpreter = tf.lite.Interpreter(model_path=str(tflite_file))\n",
        "  interpreter.allocate_tensors()\n",
        "\n",
        "  input_details = interpreter.get_input_details()[0]\n",
        "  output_details = interpreter.get_output_details()[0]\n",
        "\n",
        "  predictions = np.zeros((len(test_data_indices),), dtype=int)\n",
        "  for i, test_data_index in enumerate(test_data_indices):\n",
        "    test_image = test_segments[test_data_index]\n",
        "\n",
        "    # Check if the input type is quantized, then rescale input data to uint8\n",
        "    if input_details['dtype'] == np.uint8:\n",
        "      input_scale, input_zero_point = input_details[\"quantization\"]\n",
        "      test_image = test_image / input_scale + input_zero_point\n",
        "\n",
        "    test_image = np.expand_dims(test_image, axis=0).astype(input_details[\"dtype\"])\n",
        "    interpreter.set_tensor(input_details[\"index\"], test_image)\n",
        "    interpreter.invoke()\n",
        "    output = interpreter.get_tensor(output_details[\"index\"])[0]\n",
        "\n",
        "    predictions[i] = output.argmax()\n",
        "\n",
        "  return predictions"
      ],
      "metadata": {
        "id": "pJx2vZH8Y-o9"
      },
      "execution_count": null,
      "outputs": []
    },
    {
      "cell_type": "code",
      "source": [
        "# Helper function to evaluate a TFLite model on all test data\n",
        "def evaluate_model(tflite_file, model_type):\n",
        "  global test_segments\n",
        "  global test_labels\n",
        "\n",
        "  test_data_indices = range(test_segments.shape[0])\n",
        "  predictions = run_tflite_model(tflite_file, test_data_indices)\n",
        "\n",
        "  counter = 0\n",
        "  for i in range(len(test_segments)):\n",
        "    if test_labels[i] == predictions[i]:\n",
        "      counter += 1\n",
        "\n",
        "  accuracy = counter * 100 / len(test_segments)\n",
        "\n",
        "  print('%s model accuracy is %.4f%% (Number of test samples=%d)' % (\n",
        "      model_type, accuracy, len(test_segments)))"
      ],
      "metadata": {
        "id": "jtgI4n_ug7Ap"
      },
      "execution_count": null,
      "outputs": []
    },
    {
      "cell_type": "code",
      "source": [
        "# Evaluate model accuracy\n",
        "samples_idx = np.random.randint(0,test_segments.shape[0],30)\n",
        "evaluate_model(tflite_model_quant_file, model_type=\"Quantized\")\n",
        "evaluate_model(tflite_model_file, model_type=\"Float\")"
      ],
      "metadata": {
        "id": "ZaoNEPDEcXK-",
        "colab": {
          "base_uri": "https://localhost:8080/"
        },
        "outputId": "71652c5e-6676-440a-954f-aa7c2cecb9f8"
      },
      "execution_count": null,
      "outputs": [
        {
          "output_type": "stream",
          "name": "stdout",
          "text": [
            "Quantized model accuracy is 92.4484% (Number of test samples=1695)\n",
            "Float model accuracy is 93.1563% (Number of test samples=1695)\n"
          ]
        }
      ]
    },
    {
      "cell_type": "code",
      "source": [
        "# Save one segment of quantised test data as c array for testing\n",
        "input1_details = interpreter.get_input_details()[0]\n",
        "input1_scale, input1_zero_point = input1_details[\"quantization\"]\n",
        "\n",
        "test_array_data = np.floor(test_segments[0][0] / input1_scale + input1_zero_point).astype(int)\n",
        "\n",
        "data_filename = 'test_data'\n",
        "c_str = ''\n",
        "c_str += '#include \"' + data_filename + '.h\"\\n\\n'\n",
        "c_str += 'uint8_t test_input1[] = {\\n'\n",
        "\n",
        "# Add values of single test data segment\n",
        "for i,element in enumerate(test_array_data.flat):\n",
        "  if element < 0:\n",
        "    element = 0\n",
        "  elif element > 255:\n",
        "    element = 255\n",
        "  c_str += str(element)\n",
        "  if (i + 1) < len(test_array_data.flat):\n",
        "      c_str += ','\n",
        "  if (i + 1) % 12 == 0:\n",
        "      c_str += '\\n '\n",
        "\n",
        "\n",
        "c_str += '};\\n'\n",
        "c_str += 'const unsigned int test_input1_len = ' + str(len(test_segments[0][0].flatten()))\n",
        "c_str += ';\\n\\n'\n",
        "\n",
        "c_str += '// test_label = ' + str(labels_test_squeezed[0]) + ';\\n'\n",
        "\n",
        "with open(data_filename + '.cpp', 'w') as file:\n",
        "  file.write(c_str)\n",
        "with zipfile.ZipFile(name_fzip,'a') as myzip:\n",
        "  myzip.write(data_filename+'.cpp')"
      ],
      "metadata": {
        "id": "_1raziQq2xUM"
      },
      "execution_count": null,
      "outputs": []
    },
    {
      "cell_type": "code",
      "source": [
        "# Function: Convert some hex value into an array for C programming\n",
        "def hex_to_c_array(hex_data):\n",
        "  var_name = 'g_model'\n",
        "\n",
        "  c_str = ''\n",
        "\n",
        "  # Create header guard\n",
        "  c_str += '#include \"har_detection_model.h\"\\n\\n'\n",
        "\n",
        "\n",
        "  # Declare C variable\n",
        "  c_str += 'const unsigned char ' + var_name + '[] = {'\n",
        "  hex_array = []\n",
        "  for i, val in enumerate(hex_data) :\n",
        "\n",
        "    # Construct string from hex\n",
        "    hex_str = format(val, '#04x')\n",
        "\n",
        "    # Add formatting so each line stays within 80 characters\n",
        "    if (i + 1) < len(hex_data):\n",
        "      hex_str += ','\n",
        "    if (i + 1) % 12 == 0:\n",
        "      hex_str += '\\n '\n",
        "    hex_array.append(hex_str)\n",
        "\n",
        "  # Add closing brace\n",
        "  c_str += '\\n ' + format(' '.join(hex_array)) + '\\n};\\n\\n'\n",
        "\n",
        "    # Add array length at top of file\n",
        "  c_str += 'const unsigned int ' + var_name + '_len = ' + str(len(hex_data)) + ';\\n'\n",
        "\n",
        "  return c_str"
      ],
      "metadata": {
        "id": "g6cq4k_cQBtc"
      },
      "execution_count": null,
      "outputs": []
    },
    {
      "cell_type": "code",
      "source": [
        "# # Write TFLite model to a C source file\n",
        "c_model_name = 'har_detection_model'\n",
        "with open(c_model_name + '.cpp', 'w') as file:\n",
        "  file.write(hex_to_c_array(tflite_model_ui8))\n",
        "with zipfile.ZipFile(name_fzip,'a') as myzip:\n",
        "  myzip.write(c_model_name+'.cpp')\n",
        "\n",
        "# Alternative method\n",
        "# !xxd -i har_model.tflite > har_detection_model.cpp"
      ],
      "metadata": {
        "id": "WcpmrHn3QDMu"
      },
      "execution_count": null,
      "outputs": []
    }
  ]
}